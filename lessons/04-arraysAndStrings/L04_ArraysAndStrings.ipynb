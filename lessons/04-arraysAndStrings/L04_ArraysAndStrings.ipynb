{
 "cells": [
  {
   "cell_type": "markdown",
   "metadata": {},
   "source": [
    "# Arrays and Strings"
   ]
  },
  {
   "cell_type": "markdown",
   "metadata": {},
   "source": [
    "## Simple Arrays"
   ]
  },
  {
   "cell_type": "markdown",
   "metadata": {},
   "source": [
    "Until now, we have seen how to declare, initialize, and use variables with a single value in them such as a character, an integer, a float... In science in general is very common to have to deal with vectors. In C++, we can make **arrays** of any type of variable, objects (we will talk about them in another lesson) included. A simple way to define an array is:\n",
    "```c++\n",
    "int array[3];     // defines an int array of length 3\n",
    "char array2[5];   // defines a char array of length 5\n",
    "```\n",
    "When we write `T array[n]`, we are reserving `n` slots in the memory for a type `T`, that can be `int`, `char`, `double`... In C++, arrays start at `0`. Look at the following example:"
   ]
  },
  {
   "cell_type": "code",
   "execution_count": null,
   "metadata": {},
   "outputs": [],
   "source": [
    "!gedit src/array_01.cpp"
   ]
  },
  {
   "cell_type": "code",
   "execution_count": null,
   "metadata": {},
   "outputs": [],
   "source": [
    "!g++ -o array_01 src/array_01.cpp"
   ]
  },
  {
   "cell_type": "code",
   "execution_count": null,
   "metadata": {},
   "outputs": [],
   "source": [
    "!./array_01 "
   ]
  },
  {
   "attachments": {},
   "cell_type": "markdown",
   "metadata": {},
   "source": [
    "As you can see, eventhough we reserved the memory for only 3 elements, we can access the fourth and fifth element. What happened here? You have to imagine the memory of the computer as a big column of cells. When we reserve the memory for 3 elements, 3 of those cells, which are condiguous, are blocked and used only by the array we just defined. Let's see if we can visualize it better. Let's assume the pice of code:\n",
    "```c++\n",
    "// A\n",
    "int a[3];\n",
    "\n",
    "// B\n",
    "a[0] = 20;\n",
    "a[1] = 32;\n",
    "a[2] = 41;\n",
    "\n",
    "// C\n",
    "```\n",
    "Now look at the figure below. The letters in the code corresponds to the state of the memory at that point of the code. In `A`, we don't have anything reserved or initialized. At `B`, we have declared an integer array `a` of length 3, so the memory is reserved, but we still have not initialized the values. Finally, at `C`, we have initialized the values of the array. \n",
    "\n",
    "![figure1.png](attachment:figure1.png)\n",
    "\n",
    "Summarizing, when we declare int `a[3]`, we are declaring a pointer `a` that will point to the memory address `101` (in this example), and reserving the following two memory addresses, `102` and `103`. We will go deeper in pointers in another lesson, so don't worry a lot about this for now. When we access `a[1]`, we tell the computer to access the memory address of `a`, `101`, and move one forward. We can obviously access the memory address `104` by calling `a[3]`, but that memory address might be used by another part of the computer, and changing it might make your computer break for ever. You probably don't want that, so one needs to be careful when playing with these kind of arrays."
   ]
  },
  {
   "cell_type": "markdown",
   "metadata": {},
   "source": [
    "## Vectors"
   ]
  },
  {
   "cell_type": "markdown",
   "metadata": {},
   "source": [
    "As we probably all agree, dealing with arrays can be a little bit annoying. In C++ there is a safer and more friendly version of arrays: the **vector** structure. A vector is a class that works in the same way as an array, but it blocks accessing or modifying a memory address that is not in the vector. It also has a lot of other utilities. In order to define a vector, one needs to include the `vector` library. Also, when declaring a vector, we need to specify the type. We can also specify the size and the initial values. You can learn more in [the cplusplus vector page](http://www.cplusplus.com/reference/vector/vector/vector/)\n",
    "```c++\n",
    "#include <vector>\n",
    "\n",
    "std::vector<int> a;           // Declares a vector a of integers\n",
    "std::vector<float> b(10);     // Declares a vector b of floats with size = 10 (b[0] -- b[9])\n",
    "std::vector<double> c(4,0.0); // Declares a vector c of doubles with size = 4 and initializes them to 0.0.\n",
    "```\n",
    "In C++11 and later, one can initialize arrays and vectors directly with values:\n",
    "```\n",
    "double a[] = {1.0,2.0,3.0};\n",
    "std::vector<double> b = {1.0,2.0,3.0};\n",
    "```\n",
    "Let's also look at what can we do with a vector. We will also introduce `size_t`, a variable type equivalent to a `long unsigned int`. Lets assume we declared a vector `v`, and filled it with a certain amount of data. These are some of the most common operations in vectors:\n",
    "- `v.at(i)` or `v[i]` is the way to access the index `i` of a vector. We can read or write in there. As an example, `v[2] = 3` sets the third element to 3, and exact same result is accomplished by `v.at(2) = 3`.\n",
    "- `v.size()` is a vector function that returns the number of elements in a vector. It will return the number of elements allocated, even if they are not initialized. \n",
    "- `v.push_back(var)` will add a new element at the end of the vector with value `var`. The size will increase by 1.\n",
    "- `v.back()` returns the last element of the vector. Is equivalent to `v[v.size() - 1]`.\n",
    "- `v.pop_back()` removes the last element of a vector.\n",
    "- `v.clear()` deletes all elements\n",
    "- `v.resize(n)` changes the size of the vector to `n`. Let's see an example:\n",
    "\n",
    "```c++\n",
    "std::vector<int> v(3,0); // Vector v has 3 elements initialized to 0\n",
    "std::cout << v.size() << std::endl; // Will print 3, which is the size of v\n",
    "\n",
    "v.resize(5); // The size of the vector v is increased to 5.\n",
    "             // We add 2 elements, but they are not initialized\n",
    "std::cout << v.size() << std::endl; // Will print 5, which is the current size of v\n",
    "```\n",
    "\n",
    "Look at the following code and let's try to guess the statements:"
   ]
  },
  {
   "cell_type": "code",
   "execution_count": null,
   "metadata": {},
   "outputs": [],
   "source": [
    "!gedit src/vectors_01.cpp"
   ]
  },
  {
   "cell_type": "code",
   "execution_count": null,
   "metadata": {},
   "outputs": [],
   "source": [
    "!g++ -o vectors_01 src/vectors_01.cpp"
   ]
  },
  {
   "cell_type": "code",
   "execution_count": null,
   "metadata": {},
   "outputs": [],
   "source": [
    "!./vectors_01"
   ]
  },
  {
   "cell_type": "markdown",
   "metadata": {},
   "source": [
    "Since vectors are self-contained objects, we can also do operations that are not possible with simple arrays. As an example:\n",
    "- We can copy them as we copy an integer or a float:\n",
    "```c++\n",
    "std::vector<double> a(3,0.0);\n",
    "std::vector<double> b;\n",
    "b = a; // Now b has length 3 and all the elements set to 0.0\n",
    "```\n",
    "- We can swap them as we can also swap integers:\n",
    "\n",
    "```c++\n",
    "int a = 2;   // Define integer a\n",
    "int b = 5;   // Define integer b\n",
    "int tmp_int; // Define temporary integer\n",
    "\n",
    "tmp_int = a;\n",
    "a = b;\n",
    "b = tmp_int;  // Now a and b are swaped\n",
    "\n",
    "std::vector<int> a(3,1.0);\n",
    "std::vector<int> b(5,2.0);\n",
    "std::vector<int> tmp_vec;\n",
    "\n",
    "tmp_vec = a;\n",
    "a = b;\n",
    "b = tmp_vec;  // Now vectors a and b are swaped.\n",
    "```"
   ]
  },
  {
   "cell_type": "markdown",
   "metadata": {},
   "source": [
    "## 2D (and ND) arrays"
   ]
  },
  {
   "cell_type": "markdown",
   "metadata": {},
   "source": [
    "More than once we will need to use more than one dimentional arrays. We can declare arrays with as many dimentions as we want. As an example, we will work with 2D, but is extendable to more. We can define a 2D array/vector as:\n",
    "```c++\n",
    "double a[3][4]; // Defines a double array of 3 rows and 4 columns.\n",
    "\n",
    "// Note the space between > >. In C++, >> is an operator, and some compilers will complain!\n",
    "std::vector<std::vector<int> > av(3, std::vector<int>(4)); // Defines an int vector of 3 rows and 4 columns\n",
    "```\n",
    "To access an element is simple: `a[i][j]` will access the ith row and jth column. Also, in the same way as 1D arrays, we can initialize them directly with numbers. However, we have to be careful. In arrays, all the dimentions must be set except the first one.\n",
    "```c++\n",
    "int a[][] = { {1,2},\n",
    "              {5,8},\n",
    "              {3,1} }; // Will fail compilation\n",
    "              \n",
    "int a[][2] = { {1,2},\n",
    "               {5,8},\n",
    "               {3,1} }; // Will not fail compilation\n",
    "```\n",
    "In vectors, we cannot initialize unless we specify to use C++11. This is done by adding the compilation flag `-std=c++11`\n",
    "```c++\n",
    "std::vector<std::vector<int> > b = { {1,2},\n",
    "                                     {5,8},\n",
    "                                     {3,1} };\n",
    "```\n",
    "Look at the example below:"
   ]
  },
  {
   "cell_type": "code",
   "execution_count": null,
   "metadata": {},
   "outputs": [],
   "source": [
    "!gedit src/vectors_02.cpp"
   ]
  },
  {
   "cell_type": "code",
   "execution_count": null,
   "metadata": {},
   "outputs": [],
   "source": [
    "!g++ -std=c++11 -o vectors_02 src/vectors_02.cpp"
   ]
  },
  {
   "cell_type": "code",
   "execution_count": null,
   "metadata": {},
   "outputs": [],
   "source": [
    "!./vectors_02"
   ]
  },
  {
   "cell_type": "markdown",
   "metadata": {},
   "source": [
    "IMPORTANT NOTE. In fortran, the 2-d arrays are defined as first columns and then rows. Thus, if you pass a 2D array from fortran to C++, it will be transposed!"
   ]
  },
  {
   "cell_type": "markdown",
   "metadata": {},
   "source": [
    "## Examples"
   ]
  },
  {
   "cell_type": "markdown",
   "metadata": {},
   "source": [
    "### Example 1"
   ]
  },
  {
   "cell_type": "markdown",
   "metadata": {},
   "source": [
    "Complete the code below to create a vector with the order inverted from the vector already initialized. You can look at what the answer should look like by compiling and executing the solution."
   ]
  },
  {
   "cell_type": "code",
   "execution_count": null,
   "metadata": {},
   "outputs": [],
   "source": [
    "!gedit src/example_01.cpp"
   ]
  },
  {
   "cell_type": "code",
   "execution_count": null,
   "metadata": {},
   "outputs": [],
   "source": [
    "!g++ -o example_01 src/example_01.cpp"
   ]
  },
  {
   "cell_type": "code",
   "execution_count": null,
   "metadata": {},
   "outputs": [],
   "source": [
    "!./example_01"
   ]
  },
  {
   "cell_type": "code",
   "execution_count": null,
   "metadata": {},
   "outputs": [],
   "source": [
    "!g++ -std=c++11 -o example_01_sol src/example_01_sol.cpp"
   ]
  },
  {
   "cell_type": "code",
   "execution_count": null,
   "metadata": {},
   "outputs": [],
   "source": [
    "!./example_01_sol"
   ]
  },
  {
   "cell_type": "markdown",
   "metadata": {},
   "source": [
    "### Example 2"
   ]
  },
  {
   "cell_type": "markdown",
   "metadata": {},
   "source": [
    "Given the 2D vector defined in the code, transpose it, whithout creating any extra vector, and print the result. As usual, check the solution if you get stacked!"
   ]
  },
  {
   "cell_type": "code",
   "execution_count": null,
   "metadata": {},
   "outputs": [],
   "source": [
    "!gedit src/example_02.cpp"
   ]
  },
  {
   "cell_type": "code",
   "execution_count": null,
   "metadata": {},
   "outputs": [],
   "source": [
    "!g++ -std=c++11 -o example_02 src/example_02.cpp"
   ]
  },
  {
   "cell_type": "code",
   "execution_count": null,
   "metadata": {},
   "outputs": [],
   "source": [
    "!./example_02"
   ]
  },
  {
   "cell_type": "code",
   "execution_count": null,
   "metadata": {},
   "outputs": [],
   "source": [
    "!g++ -std=c++11 -o example_02_sol src/example_02_sol.cpp"
   ]
  },
  {
   "cell_type": "code",
   "execution_count": null,
   "metadata": {},
   "outputs": [],
   "source": [
    "!./example_02_sol"
   ]
  },
  {
   "cell_type": "markdown",
   "metadata": {},
   "source": [
    "## Char arrays"
   ]
  },
  {
   "cell_type": "markdown",
   "metadata": {},
   "source": [
    "C++ can be a little bit annoying when dealing with strings. The most important characteristic of C++ is that a string ends always with a null character `\\0`. Fortunately, this is automatically taken care by the compiler, but is something one needs to keep in mind in case we want to interface C++ and other languages like fortran. The definition and initialization of char strings is identical to other types:\n",
    "```c++\n",
    "char name[10] = \"Marc\";\n",
    "```\n",
    "In this case, the memory reserved is for 10 characters, but only 9 are usable, since the last one must be the null character. We can also let the compiler find the length:\n",
    "```c++\n",
    "char name[] = \"Marc\";\n",
    "```\n",
    "When dealing with these kind of variables, if you encounter any problem, the best thing to do is to look at [cplusplus.com](http://www.cplusplus.com/) for more information."
   ]
  },
  {
   "cell_type": "markdown",
   "metadata": {},
   "source": [
    "Let's see how can we input a word to our code. The program below shows an example on how to input a word as a command line argument, store it in a char array, and print the first letter. The syntax is complicated, so for now we will just use `argv[i]`, and forget about the pointer properties."
   ]
  },
  {
   "cell_type": "code",
   "execution_count": null,
   "metadata": {},
   "outputs": [],
   "source": [
    "!gedit src/char_arrays_01.cpp"
   ]
  },
  {
   "cell_type": "code",
   "execution_count": null,
   "metadata": {},
   "outputs": [],
   "source": [
    "!g++ -o char_arrays_01 src/char_arrays_01.cpp"
   ]
  },
  {
   "cell_type": "code",
   "execution_count": null,
   "metadata": {},
   "outputs": [],
   "source": [
    "!./char_arrays_01 myword"
   ]
  },
  {
   "cell_type": "markdown",
   "metadata": {},
   "source": [
    "## Examples"
   ]
  },
  {
   "cell_type": "markdown",
   "metadata": {},
   "source": [
    "### Example 3"
   ]
  },
  {
   "cell_type": "markdown",
   "metadata": {},
   "source": [
    "Write a program that receives a text as a command line argument, and counts how many characters does it have, but ignoring the spaces."
   ]
  },
  {
   "cell_type": "code",
   "execution_count": null,
   "metadata": {},
   "outputs": [],
   "source": [
    "!gedit src/example_03.cpp"
   ]
  },
  {
   "cell_type": "code",
   "execution_count": null,
   "metadata": {},
   "outputs": [],
   "source": [
    "!g++ -o example_03 src/example_03.cpp"
   ]
  },
  {
   "cell_type": "code",
   "execution_count": null,
   "metadata": {},
   "outputs": [],
   "source": [
    "!./example_03 \"This text has 23 characters\""
   ]
  },
  {
   "cell_type": "code",
   "execution_count": null,
   "metadata": {},
   "outputs": [],
   "source": [
    "!g++ -o example_03_sol src/example_03_sol.cpp"
   ]
  },
  {
   "cell_type": "code",
   "execution_count": null,
   "metadata": {},
   "outputs": [],
   "source": [
    "!./example_03_sol \"This text has 23 characters\""
   ]
  },
  {
   "cell_type": "markdown",
   "metadata": {},
   "source": [
    "## Strings"
   ]
  },
  {
   "cell_type": "markdown",
   "metadata": {},
   "source": [
    "Dealing with strings, as with simple arrays, is a little bit annoying and tricky. Fortunately for us, C++ has a data structure called `string`. It is basically a vector of characters, and needs the library `<string>`. There are a few functions we can use for strings:\n",
    "- `string.length()` or `string.size()` return the length (number of characters) \n",
    "- `string.empty()` returns true if the string is \"\", and false if tehre is something inside\n",
    "- `string.find(item)` or `string.find(item,index)` returns the position of the first coincidence of item in the string. If it does not find it, it returns -1. Item can be a character or another string.\n",
    "- `string.substr(index,length)` returns a substring starting at position index and with length characters.\n",
    "- `string.push_back(char)` appends a new character char to the end of the string.\n",
    "- `string.append(str)` appends to string the string str.\n",
    "- `string.insert(index,substr)` inserts the substring substr at position index in the string.\n",
    "- `string.replace(index,len,str)` replaces len characters in string starting at index by str.\n",
    "- `string.resize(n)` resizes string. If new string is longer, null caracters are placed. If shorter, extra characters are dropped.\n",
    "- `string.clear()` empties string.\n",
    "- `str1 == str2` will be true if all the characters and legths are the same\n",
    "- `str1 + str2` will return a new string with str2 appened at the end of str1"
   ]
  },
  {
   "cell_type": "markdown",
   "metadata": {},
   "source": [
    "A part from all these string operations, we can also modify characters by including the library `<cctype>`. Some of the useful functions in that library are:\n",
    "- `isalpha(c)` returns true if c is a-z, A-Z.\n",
    "- `isdigit(c)` returns true if c is 0-9.\n",
    "- `isspace(c)` returns true if c is `' '` or `'\\n'`.\n",
    "- `toupper(c)` converts c to uppercase. Leaves upper case and non-alphabetic chars untouched.\n",
    "- `tolower(c)` converts c to lowercase. Leaves lower case and non-alphabetic chars untouched."
   ]
  },
  {
   "cell_type": "markdown",
   "metadata": {},
   "source": [
    "Look at the following code to see how to use some of those functions, how to declare and initialize strings, and how to manipulate them."
   ]
  },
  {
   "cell_type": "code",
   "execution_count": null,
   "metadata": {},
   "outputs": [],
   "source": [
    "!gedit src/string_01.cpp"
   ]
  },
  {
   "cell_type": "code",
   "execution_count": null,
   "metadata": {},
   "outputs": [],
   "source": [
    "!g++ -o string_01 src/string_01.cpp"
   ]
  },
  {
   "cell_type": "code",
   "execution_count": null,
   "metadata": {},
   "outputs": [],
   "source": [
    "!./string_01"
   ]
  },
  {
   "cell_type": "markdown",
   "metadata": {},
   "source": [
    "There are ways to manipulate strings that are more compact, but they require the use of **iterators**, and we will come back to it later. I put an example on that in the second problem, so if you want to use it, you can use it."
   ]
  },
  {
   "cell_type": "markdown",
   "metadata": {},
   "source": [
    "## Problems"
   ]
  },
  {
   "cell_type": "markdown",
   "metadata": {},
   "source": [
    "### Problem 1"
   ]
  },
  {
   "cell_type": "markdown",
   "metadata": {},
   "source": [
    "Given an array of length `N` that contains only integers, print the special numbers of array. A number in this array is called Special number if it is divisible by at least one other number in the array. N should be passed as a command line argument, and the code will generate random integer numbers between `1` and `5*N`."
   ]
  },
  {
   "cell_type": "code",
   "execution_count": null,
   "metadata": {},
   "outputs": [],
   "source": [
    "!gedit src/problem_01.cpp"
   ]
  },
  {
   "cell_type": "code",
   "execution_count": null,
   "metadata": {},
   "outputs": [],
   "source": [
    "!g++ -o problem_01 src/problem_01.cpp\n",
    "!g++ -o problem_01_sol src/problem_01_sol.cpp"
   ]
  },
  {
   "cell_type": "code",
   "execution_count": null,
   "metadata": {},
   "outputs": [],
   "source": [
    "print(\"Your solution:\")\n",
    "!./problem_01 10\n",
    "print(\"\\nSolution:\")\n",
    "!./problem_01_sol 10"
   ]
  },
  {
   "cell_type": "markdown",
   "metadata": {},
   "source": [
    "### Problem 2"
   ]
  },
  {
   "cell_type": "markdown",
   "metadata": {},
   "source": [
    "Given two strings as a command line argument, make a program that removes from the second string all the letters that appear in the first one. As an example, `my` and `Marc is amazing` will return `arc is aazing`. "
   ]
  },
  {
   "cell_type": "code",
   "execution_count": null,
   "metadata": {},
   "outputs": [],
   "source": [
    "!gedit src/problem_02.cpp"
   ]
  },
  {
   "cell_type": "code",
   "execution_count": null,
   "metadata": {},
   "outputs": [],
   "source": [
    "!g++ -o problem_02 src/problem_02.cpp\n",
    "!g++ -o problem_02_sol src/problem_02_sol.cpp"
   ]
  },
  {
   "cell_type": "code",
   "execution_count": null,
   "metadata": {},
   "outputs": [],
   "source": [
    "print(\"Your solution:\")\n",
    "!./problem_02 \"ma\" \"Marc is amaZing\" \n",
    "print(\"\\nSolution:\")\n",
    "!./problem_02_sol \"ma\" \"Marc is amaZing\""
   ]
  },
  {
   "cell_type": "code",
   "execution_count": null,
   "metadata": {},
   "outputs": [],
   "source": []
  }
 ],
 "metadata": {
  "kernelspec": {
   "display_name": "Python 3",
   "language": "python",
   "name": "python3"
  },
  "language_info": {
   "codemirror_mode": {
    "name": "ipython",
    "version": 3
   },
   "file_extension": ".py",
   "mimetype": "text/x-python",
   "name": "python",
   "nbconvert_exporter": "python",
   "pygments_lexer": "ipython3",
   "version": "3.6.3"
  }
 },
 "nbformat": 4,
 "nbformat_minor": 2
}

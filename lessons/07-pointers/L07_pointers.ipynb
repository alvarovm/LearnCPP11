{
 "cells": [
  {
   "cell_type": "markdown",
   "metadata": {},
   "source": [
    "# Pointers"
   ]
  },
  {
   "cell_type": "markdown",
   "metadata": {},
   "source": [
    "## Introduction"
   ]
  },
  {
   "cell_type": "markdown",
   "metadata": {},
   "source": [
    "When we declare a variable, such as `int i = 0;`, we are telling the computer to reserve memory for an integer, and set the value of `i` to `0`. In C++, we can have access to the memory address by getting the **reference** of the variable `i`. We can store that memory address in a **pointer**, which we declare with a single `*`:\n",
    "\n",
    "```c++\n",
    "int myVar = 0; // i is a variable that stores the value 0\n",
    "int * myPtr;   // myPtr is a variable that will store a pointer\n",
    "myPtr = &i;    // now myPtr stores the address of i\n",
    "```\n",
    "\n",
    "Let's look a a simple code to put an example of this."
   ]
  },
  {
   "cell_type": "code",
   "execution_count": null,
   "metadata": {},
   "outputs": [],
   "source": [
    "!gedit src/intro_01.cpp"
   ]
  },
  {
   "cell_type": "code",
   "execution_count": null,
   "metadata": {},
   "outputs": [],
   "source": [
    "!g++ -o intro_01 src/intro_01.cpp"
   ]
  },
  {
   "cell_type": "code",
   "execution_count": null,
   "metadata": {},
   "outputs": [],
   "source": [
    "!./intro_01"
   ]
  },
  {
   "cell_type": "markdown",
   "metadata": {},
   "source": [
    "You will realize that `iptr` is contains a bunch of numbers and letters like `0x7ffd931218f4`. This is the memory address of `i` in your machine. Let's look at a figure that might help understand. If we thing about the memory addresses as integer numbers as in the picture (101, 102, ..., 201, 202, ...) what is happening is the following. We declare the variable `i`, and it is stored in in the memory address `101`. Then we declare a pointer `iptr`, and this variable is stored in memory address `201`. When we set `i = 3`, the value in memory address `101` is set to `3`. When we set `iptr = &i`, we are setting the value of the pointer to the memory address `101`.\n",
    "![Figure 1](figures/figure1.png)"
   ]
  },
  {
   "cell_type": "markdown",
   "metadata": {},
   "source": [
    "Although a pointer contains a memory address, we can **dereference** the pointer to obtain the value of the memory address that is pointing to by using a single `*`. As an example:\n",
    "```c++\n",
    "int i = 3;        // Declare integer variable i and initialize it to 3\n",
    "int * iptr = &i;  // Declare integer pointer iptr and initialize it to the memory address of i\n",
    "int j = *iptr;    /* Declare integer variable j and set it to the value of \n",
    "                   * the memory address that iptr is pointing to */\n",
    "```\n",
    "Look at the following code to see what is happening:"
   ]
  },
  {
   "cell_type": "code",
   "execution_count": null,
   "metadata": {},
   "outputs": [],
   "source": [
    "!gedit src/intro_02.cpp"
   ]
  },
  {
   "cell_type": "code",
   "execution_count": null,
   "metadata": {},
   "outputs": [],
   "source": [
    "!g++ -o intro_02 src/intro_02.cpp"
   ]
  },
  {
   "cell_type": "code",
   "execution_count": null,
   "metadata": {},
   "outputs": [],
   "source": [
    "!./intro_02"
   ]
  },
  {
   "cell_type": "markdown",
   "metadata": {},
   "source": [
    "We can also assign pointers so they point to the same address:\n",
    "```c++\n",
    "int i = 3;             // Declare integer i and initialize it to 3\n",
    "int * iptr = &i;       // Declare integer pointer iptr and initialize it to point to i\n",
    "int * iptr_cp = iptr;  // Declare integer pointer iptr_cp and initialize it to point to the same place as iptr\n",
    "```"
   ]
  },
  {
   "cell_type": "markdown",
   "metadata": {},
   "source": [
    "Let's look at the following piece of code, and guess which is the value of the variables. **DON'T RUN THE CODE YET!!**\n",
    "```c++\n",
    "#include <iostream>\n",
    "\n",
    "int main() {\n",
    "  \n",
    "  int i = 2;\n",
    "  int j = i;\n",
    "  int * ptr1 = &i;\n",
    "  int * ptr2 = ptr1;\n",
    "  \n",
    "  // What is the value of *ptr2?\n",
    "  std::cout << \"*ptr2 = \" << *ptr2 << std::endl;\n",
    "  \n",
    "  i = 3;\n",
    "  // What is the value  of *ptr2?\n",
    "  std::cout << \"*ptr2 = \" << *ptr2 << std::endl;\n",
    "  \n",
    "  // What is the value of j?\n",
    "  std::cout << \"j = \" << j << std::endl;\n",
    "  \n",
    "  *ptr2 = j;\n",
    "  \n",
    "  // What is the value of *ptr1?\n",
    "  std::cout << \"*ptr1 = \" << *ptr1 << std::endl;\n",
    "  \n",
    "  // What is the value of i?\n",
    "  std::cout << \"i = \" << i << std::endl;\n",
    "  \n",
    "  ptr2 = &j;\n",
    "  *ptr1 = 5;\n",
    "  *ptr2 = *ptr1;\n",
    "  \n",
    "  // What is the value of i?\n",
    "  std::cout << \"i = \" << i << std::endl;\n",
    "            \n",
    "  // What is the value of j?\n",
    "  std::cout << \"j = \" << j << std::endl;\n",
    "\n",
    "  return 0;\n",
    "}\n",
    "```"
   ]
  },
  {
   "cell_type": "code",
   "execution_count": null,
   "metadata": {},
   "outputs": [],
   "source": [
    "!g++ -o intro_03 src/intro_03.cpp"
   ]
  },
  {
   "cell_type": "code",
   "execution_count": null,
   "metadata": {},
   "outputs": [],
   "source": [
    "!./intro_03"
   ]
  },
  {
   "cell_type": "markdown",
   "metadata": {},
   "source": [
    "## Pointer properties, memory regions and operators"
   ]
  },
  {
   "cell_type": "markdown",
   "metadata": {},
   "source": [
    "### Nullptr"
   ]
  },
  {
   "cell_type": "markdown",
   "metadata": {},
   "source": [
    "There are several operators that are useful and commonly used in C++. The first one we will talk about is the **nullptr**. As you know, we should **ALWAYS** initialize a variable when we declare it, even if is to 0, empty string, null character... Pointers should also be initialized. In C++ versions lower than C++11, it is recommended to initialize them to `0`. What this is doing is to make the pointer to point nowhere. However, in C++11 and up, it is recommended to use `nullptr` to initialize a pointer."
   ]
  },
  {
   "cell_type": "code",
   "execution_count": null,
   "metadata": {},
   "outputs": [],
   "source": [
    "!gedit src/nullptr_01.cpp"
   ]
  },
  {
   "cell_type": "code",
   "execution_count": null,
   "metadata": {},
   "outputs": [],
   "source": [
    "!g++ -std=c++11 -o nullptr_01 src/nullptr_01.cpp"
   ]
  },
  {
   "cell_type": "code",
   "execution_count": null,
   "metadata": {},
   "outputs": [],
   "source": [
    "!./nullptr_01"
   ]
  },
  {
   "cell_type": "markdown",
   "metadata": {},
   "source": [
    "Note two things. First, the pointer has been initialized to `0`. Second, we need C++11 to use `nullptr`."
   ]
  },
  {
   "cell_type": "markdown",
   "metadata": {},
   "source": [
    "### New and delete"
   ]
  },
  {
   "cell_type": "markdown",
   "metadata": {},
   "source": [
    "We have talked about the scope of variables in previous lessons. Pointers also have a scope. When we declare a pointer, it is valid in that scope, and then is gone. However, with pointers we can reserve memory that will persist even outside the scope with the keyword **new**. That will reserve the memory, and no matter what happens in our code, that memory will be kept reserved. However, everytime we use `new`, we will have to free that memory using the keyword **delete**. This opens a new whole lot of possibilities, but also a whole new lot of problems. What happens if we are in a loop where we reserve memory, but we forget to delete it inside the loop? We will keep filling the RAM memory until we run out of it. Memory problems are the most common and yet the most difficult bugs to get rid of. The code below shows how to use these keywords:\n",
    "```c++\n",
    "int * ptr = nullptr;    // Declare an integer pointer and initialize it to nullptr\n",
    "ptr = new int;          // We reserve the memory for int\n",
    "*ptr = 3;               // Assign 3 to the memory address to which the pointer points to\n",
    "\n",
    "int * ptr2 = new int(3) // Do everything in one line\n",
    "\n",
    "delete ptr;             // Frees the memory of ptr\n",
    "delete ptr2;            // Frees the memory of ptr2\n",
    "```"
   ]
  },
  {
   "cell_type": "markdown",
   "metadata": {},
   "source": [
    "### Heap, Stack and Static memory"
   ]
  },
  {
   "cell_type": "markdown",
   "metadata": {},
   "source": [
    "Whenever we declare a variable, the memory is automatically allocated and freed. This memory region is called the **stack**. Whatever we put in the stack, will be automatically deleted once we get out of that scope. However, when we use the `new` and `delete` keywords, we are using memory in the **heap**. The heap must be manually freed, or we will have memory errors. Finally, there is the **static memory** region, where the global variables are defined. The memory is reserved once, and remains in the same address for the entire execution of the program. These global variables are defined with the `static` keyword in front of them, and they should not be modified unless extremely necessary. Look at the code below to see examples:"
   ]
  },
  {
   "cell_type": "code",
   "execution_count": null,
   "metadata": {},
   "outputs": [],
   "source": [
    "!gedit src/memory_01.cpp"
   ]
  },
  {
   "cell_type": "code",
   "execution_count": null,
   "metadata": {},
   "outputs": [],
   "source": [
    "!g++ -o memory_01 src/memory_01.cpp"
   ]
  },
  {
   "cell_type": "code",
   "execution_count": null,
   "metadata": {},
   "outputs": [],
   "source": [
    "!./memory_01"
   ]
  },
  {
   "cell_type": "markdown",
   "metadata": {},
   "source": [
    "### The -> operator"
   ]
  },
  {
   "cell_type": "markdown",
   "metadata": {},
   "source": [
    "When we were looking at vectors or strings, we saw that to call a function of the vector class we needed to use `.`, i.e., `string.size()` or `vector.clear()`. We will mostly use pointers for classes, and as we saw in the previous lesson, classes have member variables and functions. If instead of a class we have a pointer to a class, in order to access a member function we need to use `->` instead of `.`. Let's have a look at the following file:"
   ]
  },
  {
   "cell_type": "code",
   "execution_count": null,
   "metadata": {},
   "outputs": [],
   "source": [
    "!gedit src/operator_01.cpp"
   ]
  },
  {
   "cell_type": "code",
   "execution_count": null,
   "metadata": {},
   "outputs": [],
   "source": [
    "!g++ -o operator_01 src/operator_01.cpp"
   ]
  },
  {
   "cell_type": "code",
   "execution_count": null,
   "metadata": {},
   "outputs": [],
   "source": [
    "!./operator_01"
   ]
  },
  {
   "cell_type": "markdown",
   "metadata": {},
   "source": [
    "## Memory debugger: Valgrind"
   ]
  },
  {
   "cell_type": "markdown",
   "metadata": {},
   "source": [
    "Finding memory errors can be a pain, specially if the code is long and made of multiple files. Look at the following source file:"
   ]
  },
  {
   "cell_type": "code",
   "execution_count": null,
   "metadata": {},
   "outputs": [],
   "source": [
    "!gedit src/valgring_01.cpp"
   ]
  },
  {
   "cell_type": "code",
   "execution_count": null,
   "metadata": {},
   "outputs": [],
   "source": [
    "!g++ -o valgrind_01 src/valgrind_01.cpp"
   ]
  },
  {
   "cell_type": "code",
   "execution_count": null,
   "metadata": {},
   "outputs": [],
   "source": [
    "!./valgrind_01"
   ]
  },
  {
   "cell_type": "markdown",
   "metadata": {},
   "source": [
    "Seems to run fine, right? However, as you probably noticed, we used `new` without a `delete`. In this case, the program works fine, and does what is supposed to do, but in general, when there is a memory issue, the code will run returning nonsense stuff. Whenever you write a software, it is recommended to run it under **valgrind**. This is a program that looks for memory leaks, and identifies where are they happening. Let's try it:"
   ]
  },
  {
   "cell_type": "code",
   "execution_count": null,
   "metadata": {},
   "outputs": [],
   "source": [
    "!valgrind ./valgrind_01"
   ]
  },
  {
   "cell_type": "markdown",
   "metadata": {},
   "source": [
    "The output should be something like this:\n",
    "```\n",
    "==54605== Memcheck, a memory error detector\n",
    "==54605== Copyright (C) 2002-2015, and GNU GPL'd, by Julian Seward et al.\n",
    "==54605== Using Valgrind-3.12.0 and LibVEX; rerun with -h for copyright info\n",
    "==54605== Command: ./valgrind_01\n",
    "==54605== \n",
    "*i_ptr = 3\n",
    "==54605== \n",
    "==54605== HEAP SUMMARY:\n",
    "==54605==     in use at exit: 4 bytes in 1 blocks\n",
    "==54605==   total heap usage: 1 allocs, 0 frees, 4 bytes allocated\n",
    "==54605== \n",
    "==54605== LEAK SUMMARY:\n",
    "==54605==    definitely lost: 4 bytes in 1 blocks\n",
    "==54605==    indirectly lost: 0 bytes in 0 blocks\n",
    "==54605==      possibly lost: 0 bytes in 0 blocks\n",
    "==54605==    still reachable: 0 bytes in 0 blocks\n",
    "==54605==         suppressed: 0 bytes in 0 blocks\n",
    "==54605== Rerun with --leak-check=full to see details of leaked memory\n",
    "==54605== \n",
    "==54605== For counts of detected and suppressed errors, rerun with: -v\n",
    "==54605== ERROR SUMMARY: 0 errors from 0 contexts (suppressed: 0 from 0)\n",
    "```\n",
    "If you see, there are 0 errors, but it is reporting that we lost 4 bytes (size of integer OH SURPRISE!) in the execution. We can rerun it with the options it recommends to see where is it lost:"
   ]
  },
  {
   "cell_type": "code",
   "execution_count": null,
   "metadata": {},
   "outputs": [],
   "source": [
    "!valgrind --leak-check=full ./valgrind_01"
   ]
  },
  {
   "cell_type": "markdown",
   "metadata": {},
   "source": [
    "Now it adds these lines:\n",
    "```\n",
    "==88796== 4 bytes in 1 blocks are definitely lost in loss record 1 of 1\n",
    "==88796==    at 0x4C2A203: operator new(unsigned long) (vg_replace_malloc.c:334)\n",
    "==88796==    by 0x40090F: main (in /home/mrierari/codes/LearnCPP11/lessons/07-pointers/valgrind_01)\n",
    "```\n",
    "It is telling us which function is giving the leak. You can look at more info on the internet about options and other features of valgrind."
   ]
  },
  {
   "cell_type": "markdown",
   "metadata": {},
   "source": [
    "## Allocating and deleting arrays"
   ]
  },
  {
   "cell_type": "markdown",
   "metadata": {},
   "source": [
    "A few lessons ago, we saw how to allocate arrays:\n",
    "```c++\n",
    "double myArray[3]; // Allocates a 3 element array in the memory\n",
    "```\n",
    "We did not care about deleting it, since it was put in the stack. However, we can allocate arrays using `new`:\n",
    "```c++\n",
    "double * myArray = new double[5]; // Allocates a 5 element array in the heap\n",
    "```\n",
    "In order to free the memory allocated, we need to call `delete[]`. This will free the memory of the whole array.\n",
    "```c++\n",
    "delete[] myArray; // Frees the memory of the array\n",
    "```\n",
    "In the same way, we can declare n-D arrays:\n",
    "```c++\n",
    "int ** a = new int*[5]; // Declares an array of integer pointers of size 5 \n",
    "for (int i = 0; i < 5; i++) {\n",
    "  a[i] = new int[8]; // For each i, declares an array of pointers of size 8\n",
    "}\n",
    "\n",
    "for (int i = 0; i < 5; i++) {\n",
    "  delete[] a[i]; // For each i, deletes the array of pointers of size 8\n",
    "}\n",
    "delete[] a; // Deletes the initial 5 element array\n",
    "```"
   ]
  },
  {
   "cell_type": "markdown",
   "metadata": {},
   "source": [
    "## Project: Linked list"
   ]
  },
  {
   "cell_type": "markdown",
   "metadata": {},
   "source": [
    "### Introduction"
   ]
  },
  {
   "cell_type": "markdown",
   "metadata": {},
   "source": [
    "With all what we have seen in the previous 7 lessons, now you are ready to start a small project. It will consist on creating a **linked list** of integers. A linked list is similar to a vector, with the difference that the data is not contiguous in memory. The **nodes** of the list can be anywhere, and each node contains the data and a pointer to the next node in the list. Graphically, it would be something like this:\n",
    "![Figure 2](figures/figure2.png)\n",
    "But why complicating our lives if we have vectors? Well, think about an insertion inside a vector. In order to insert something in the position 50 of a vector with 1000 elements, we need to displace all the elements after 50, and change the data. However, with a linked list, we just need to modify 2 nodes: the previous node and the node we are adding. They can be in different areas of the memory, since we have a pointer that points to the next node, no matter where is it. The figure below illustrates this:\n",
    "![Figure 3](figures/figure3.png)\n",
    "The node that has been colored different is the one we inserted, and we only needed to modify the blue arrows. All the rest of the nodes remain untouched. However, linked lists have a perk, which is that accessing a node requires to go over the entire list til you find that node. However, in vectors, it is faster, since we know that the elements are contiguous in memory."
   ]
  },
  {
   "cell_type": "markdown",
   "metadata": {},
   "source": [
    "### Project assignment"
   ]
  },
  {
   "cell_type": "markdown",
   "metadata": {},
   "source": [
    "Your goal is to create two classes: `MyNode` and `MyLinkedList`. As you can expect, class `MyLinkedList` will handle the allocation and destruction of the nodes. Since we will be jumping from one scope to the other one, the address of the nodes will have to be allocated in the heap with the operator `new`. "
   ]
  },
  {
   "cell_type": "markdown",
   "metadata": {},
   "source": [
    "In order to make your life easier, in the folder `src/project` there are the header files and cpp files of the two classes: `node.h/cpp` and `linkedlist.h/cpp`. The members are declared, but not defined. Your goal is to define them properly in order to pass all the assertions in `main.cpp`. Also, it needs to run the main function without memory leaks, so when we run `valgrind`, it needs to return that all the allocs were freed. You should not touch the `main.cpp` file or any of the header files `node.h` and `linkedlist.cpp`."
   ]
  },
  {
   "cell_type": "markdown",
   "metadata": {},
   "source": [
    "If you have any question, you can post it on the [group forum](https://groups.google.com/forum/#!forum/cpp-workshop-paesanilab), so other people can help and we can keep track of the problems. Good luck!"
   ]
  },
  {
   "cell_type": "code",
   "execution_count": null,
   "metadata": {},
   "outputs": [],
   "source": [
    "!gedit src/project/node.h"
   ]
  },
  {
   "cell_type": "code",
   "execution_count": null,
   "metadata": {},
   "outputs": [],
   "source": [
    "!gedit src/project/linkedlist.h"
   ]
  },
  {
   "cell_type": "code",
   "execution_count": null,
   "metadata": {},
   "outputs": [],
   "source": [
    "!gedit src/project/node.cpp"
   ]
  },
  {
   "cell_type": "code",
   "execution_count": null,
   "metadata": {},
   "outputs": [],
   "source": [
    "!gedit src/project/linkedlist.cpp"
   ]
  },
  {
   "cell_type": "markdown",
   "metadata": {},
   "source": [
    "To compile, run the cell below:"
   ]
  },
  {
   "cell_type": "code",
   "execution_count": null,
   "metadata": {},
   "outputs": [],
   "source": [
    "!g++ -std=c++11 -c src/project/node.cpp\n",
    "!g++ -std=c++11 -c src/project/linkedlist.cpp\n",
    "!g++ -std=c++11 -o main src/project/main.cpp linkedlist.o node.o"
   ]
  },
  {
   "cell_type": "markdown",
   "metadata": {},
   "source": [
    "Run the main test:"
   ]
  },
  {
   "cell_type": "code",
   "execution_count": null,
   "metadata": {},
   "outputs": [],
   "source": [
    "!./main"
   ]
  },
  {
   "cell_type": "markdown",
   "metadata": {},
   "source": [
    "Run Valgrind:"
   ]
  },
  {
   "cell_type": "code",
   "execution_count": null,
   "metadata": {},
   "outputs": [],
   "source": [
    "!valgrind ./main"
   ]
  }
 ],
 "metadata": {
  "kernelspec": {
   "display_name": "Python 3",
   "language": "python",
   "name": "python3"
  },
  "language_info": {
   "codemirror_mode": {
    "name": "ipython",
    "version": 3
   },
   "file_extension": ".py",
   "mimetype": "text/x-python",
   "name": "python",
   "nbconvert_exporter": "python",
   "pygments_lexer": "ipython3",
   "version": "3.6.3"
  }
 },
 "nbformat": 4,
 "nbformat_minor": 2
}

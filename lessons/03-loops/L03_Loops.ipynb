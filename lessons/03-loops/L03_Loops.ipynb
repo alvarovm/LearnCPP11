{
 "cells": [
  {
   "cell_type": "code",
   "execution_count": null,
   "metadata": {},
   "outputs": [],
   "source": [
    "# Please execute this cell for timing purposes at one of the problems.\n",
    "import time"
   ]
  },
  {
   "cell_type": "markdown",
   "metadata": {},
   "source": [
    "# Loops"
   ]
  },
  {
   "cell_type": "markdown",
   "metadata": {},
   "source": [
    "## Introduction"
   ]
  },
  {
   "cell_type": "markdown",
   "metadata": {},
   "source": [
    "When we want to perform the same operation several times until a condition is fulfilled, we need to use the **loop** type functions. In them, a set of instructions is repeated until the exit condition is fulfilled. As an example, we can ask the user for a number, and then print all the numbers from 1 to that number in the screen. The best and easiest way to perform this is with a loop:\n",
    "```\n",
    "Read n;\n",
    "While i < n:\n",
    "    Print i\n",
    "```\n",
    "In this lesson we will look at different ways to perform loops in C++, and learn how to decide which kind of loop is the best one for a given purpose."
   ]
  },
  {
   "cell_type": "markdown",
   "metadata": {},
   "source": [
    "## WHILE loops"
   ]
  },
  {
   "cell_type": "markdown",
   "metadata": {},
   "source": [
    "The first loop type we will see is the **while** loop. The structure is very simple:\n",
    "```cpp\n",
    "while (condition) {\n",
    "  // Statements to repeat\n",
    "}\n",
    "```\n",
    "The condition in there is a boolean (true or false). Inside the loop body, there must be a check in the condition. If not, we might have an infinite loop. The statements inside the while loop are known as **loop body**, and each time they are executed is known as an **iteration**. Let's look at a very simple example:"
   ]
  },
  {
   "cell_type": "code",
   "execution_count": null,
   "metadata": {},
   "outputs": [],
   "source": [
    "!gedit src/while_01.cpp"
   ]
  },
  {
   "cell_type": "code",
   "execution_count": null,
   "metadata": {},
   "outputs": [],
   "source": [
    "!g++ -o while_01 src/while_01.cpp"
   ]
  },
  {
   "cell_type": "code",
   "execution_count": null,
   "metadata": {},
   "outputs": [],
   "source": [
    "!./while_01"
   ]
  },
  {
   "cell_type": "markdown",
   "metadata": {},
   "source": [
    "As you can see, we iterate until `i` reaches the value of 10. Note that when `i == 10`, the condition is evaluated again, and then the loop is done, since the condition `i < 10` is flase if `i == 10`."
   ]
  },
  {
   "cell_type": "markdown",
   "metadata": {},
   "source": [
    "To practice, let's create a program that returns how many times a number is divided by two. The number will be passed as argument, and there should be a usage statement in case the user runs it wrong (without any argument). The code is half written, but you need to modify it to make it work properly :)"
   ]
  },
  {
   "cell_type": "code",
   "execution_count": null,
   "metadata": {},
   "outputs": [],
   "source": [
    "!gedit src/while_02.cpp"
   ]
  },
  {
   "cell_type": "code",
   "execution_count": null,
   "metadata": {},
   "outputs": [],
   "source": [
    "!g++ -o while_02 src/while_02.cpp"
   ]
  },
  {
   "cell_type": "code",
   "execution_count": null,
   "metadata": {},
   "outputs": [],
   "source": [
    "!./while_02 26"
   ]
  },
  {
   "cell_type": "markdown",
   "metadata": {},
   "source": [
    "If you get stacked, you can look at the solution and make sure the result is the same."
   ]
  },
  {
   "cell_type": "code",
   "execution_count": null,
   "metadata": {},
   "outputs": [],
   "source": [
    "!g++ -o while_02_sol src/while_02_sol.cpp"
   ]
  },
  {
   "cell_type": "code",
   "execution_count": null,
   "metadata": {},
   "outputs": [],
   "source": [
    "!./while_02_sol 26"
   ]
  },
  {
   "cell_type": "markdown",
   "metadata": {},
   "source": [
    "## Increment/Decrement Operators"
   ]
  },
  {
   "cell_type": "markdown",
   "metadata": {},
   "source": [
    "As you see, is very often to have the statement `i = i + 1`, or something similar. We can write this in a more compact way:\n",
    "```cpp\n",
    "i++; // Increment operator: Equivalent to i = i + 1\n",
    "i--; // Decrement operator: Equivalent to i = i - 1\n",
    "```\n",
    "One can also find:\n",
    "```cpp\n",
    "++i; // Increment operator: Equivalent to i = i + 1\n",
    "--i; // Decrement operator: Equivalent to i = i - 1\n",
    "```\n",
    "What is the difference? Look at the following code and execute it."
   ]
  },
  {
   "cell_type": "code",
   "execution_count": null,
   "metadata": {},
   "outputs": [],
   "source": [
    "!gedit src/inc_dec_01.cpp"
   ]
  },
  {
   "cell_type": "code",
   "execution_count": null,
   "metadata": {},
   "outputs": [],
   "source": [
    "!g++ -o inc_dec_01 src/inc_dec_01.cpp"
   ]
  },
  {
   "cell_type": "code",
   "execution_count": null,
   "metadata": {},
   "outputs": [],
   "source": [
    "!./inc_dec_01"
   ]
  },
  {
   "cell_type": "markdown",
   "metadata": {},
   "source": [
    "Did you see what happened? In both cases we used the variable and modified it in the same operation. Using the `++/--` operator **before** the variable **first modifies it and then uses it**. However, using it **after** the variable, **first uses it and then modifies it**. This can be useful sometimes."
   ]
  },
  {
   "cell_type": "markdown",
   "metadata": {},
   "source": [
    "In the same way, operations on a variable itself can be compacted:\n",
    "```cpp\n",
    "i += 2; // i = i + 2\n",
    "i /= 3; // i = i / 3\n",
    "i -= 5; // i = i - 5\n",
    "i *= 2; // i = i * 2\n",
    "```\n",
    "You will commonly find these operators rather than the full expression."
   ]
  },
  {
   "cell_type": "markdown",
   "metadata": {},
   "source": [
    "## FOR loops"
   ]
  },
  {
   "cell_type": "markdown",
   "metadata": {},
   "source": [
    "The while loops are very useful when we don't know exactly how many iterations we will need to perform, but they have the small problem of entering an infinite loop. If the number of iterations is known, we can use the **for** loop. The structure is simple:\n",
    "```cpp\n",
    "for (initial expression; condition; update expression) {\n",
    "    // loop statements\n",
    "}\n",
    "```\n",
    "In the initial expression, we can use a variable that has been already declared, or just declare one right there.\n",
    "```cpp\n",
    "int i = 5;\n",
    "for (i = 0; i < 10; i++) {\n",
    "    // Stuff\n",
    "}\n",
    "\n",
    "for (int j = 10; j > 1; j--) {\n",
    "    // Stuff\n",
    "}\n",
    "```\n",
    "The loop will keep going until the condition expression is false. Then will stop. Let's look at a very simple example:"
   ]
  },
  {
   "cell_type": "code",
   "execution_count": null,
   "metadata": {},
   "outputs": [],
   "source": [
    "!gedit src/for_01.cpp"
   ]
  },
  {
   "cell_type": "code",
   "execution_count": null,
   "metadata": {},
   "outputs": [],
   "source": [
    "!g++ -o for_01 src/for_01.cpp"
   ]
  },
  {
   "cell_type": "code",
   "execution_count": null,
   "metadata": {},
   "outputs": [],
   "source": [
    "!./for_01"
   ]
  },
  {
   "cell_type": "markdown",
   "metadata": {},
   "source": [
    "## Nested loops"
   ]
  },
  {
   "cell_type": "markdown",
   "metadata": {},
   "source": [
    "As we previously saw, we can put conditional expressions inside conditional expressions (nested if-else structures). We can also do the same for the loops. Let's look at a simple example:"
   ]
  },
  {
   "cell_type": "code",
   "execution_count": null,
   "metadata": {},
   "outputs": [],
   "source": [
    "!gedit src/nested_01.cpp"
   ]
  },
  {
   "cell_type": "code",
   "execution_count": null,
   "metadata": {},
   "outputs": [],
   "source": [
    "!g++ -o nested_01 src/nested_01.cpp"
   ]
  },
  {
   "cell_type": "code",
   "execution_count": null,
   "metadata": {},
   "outputs": [],
   "source": [
    "!./nested_01"
   ]
  },
  {
   "cell_type": "markdown",
   "metadata": {},
   "source": [
    "## Special keywords in loops"
   ]
  },
  {
   "cell_type": "markdown",
   "metadata": {},
   "source": [
    "It might happen sometimes that we don't want to continue looping if a condition is fulfilled, or we just want to skip an iteration and move to the next one if another condition is true. In order to do that we have the `break` and `continue` kewords. \n",
    "- `break` will exit the most inner loop of a nested loop. It will terminate the loop.\n",
    "\n",
    "```cpp\n",
    "for (int i = 0; i < 5; i++) {\n",
    "    for (int j = 5; j > 3; j++) { \n",
    "        if (j == i) { // Will the pair 5,4 be ever printed?\n",
    "            break;\n",
    "        }\n",
    "        std::cout << i << \",\" << j << std::endl;\n",
    "    }\n",
    "}\n",
    "```\n",
    "- `continue` will jump to the next iteration of the current loop.\n",
    "\n",
    "```cpp\n",
    "int result = 0;\n",
    "for (int i = 0; i < 5; i++) {\n",
    "    for (int j = 0; j < 5; j++) {\n",
    "        if (i == j) {\n",
    "            continue;\n",
    "        }\n",
    "        result += i*j;\n",
    "    }\n",
    "}\n",
    "```"
   ]
  },
  {
   "cell_type": "markdown",
   "metadata": {},
   "source": [
    "## Summary"
   ]
  },
  {
   "cell_type": "markdown",
   "metadata": {},
   "source": [
    "### Example 1"
   ]
  },
  {
   "cell_type": "markdown",
   "metadata": {},
   "source": [
    "Write a program that yields all the combinations of ranges between two lower case letters passed as command line arguments, but does not print the ones that have the same letter. **You cannot use any 'else' statement. Assume that char1 and char 2 are always lower case**. This means that the following command will yield the output:\n",
    "```\n",
    "./example1 a c \n",
    "ab\n",
    "ac\n",
    "ba\n",
    "bc\n",
    "ca\n",
    "cb\n",
    "```\n",
    "As a hint, a `char` type can also be incremented or decremented:\n",
    "```cpp\n",
    "char c = 'a'; // c has the value of 'a'\n",
    "c++; // Now c has the value of 'b'\n",
    "```\n",
    "Complete and run the code, and compare the output with the solution."
   ]
  },
  {
   "cell_type": "code",
   "execution_count": null,
   "metadata": {},
   "outputs": [],
   "source": [
    "!gedit src/example1.cpp"
   ]
  },
  {
   "cell_type": "code",
   "execution_count": null,
   "metadata": {},
   "outputs": [],
   "source": [
    "!g++ -o example1 src/example1.cpp\n",
    "!g++ -o example1_sol src/example1_sol.cpp"
   ]
  },
  {
   "cell_type": "code",
   "execution_count": null,
   "metadata": {},
   "outputs": [],
   "source": [
    "print(\"Comparing outputs...\")\n",
    "print(\" Your code:\")\n",
    "!./example1 a\n",
    "!./example1 a d\n",
    "print(\"\\n The solution:\")\n",
    "!./example1_sol a\n",
    "!./example1_sol a d"
   ]
  },
  {
   "cell_type": "markdown",
   "metadata": {},
   "source": [
    "### Example 2"
   ]
  },
  {
   "cell_type": "markdown",
   "metadata": {},
   "source": [
    "Write a program that factorizes a number. The code should print `20=2^2*5` if 20 is the number. Think about efficiency!"
   ]
  },
  {
   "cell_type": "code",
   "execution_count": null,
   "metadata": {},
   "outputs": [],
   "source": [
    "!gedit src/example2.cpp"
   ]
  },
  {
   "cell_type": "code",
   "execution_count": null,
   "metadata": {},
   "outputs": [],
   "source": [
    "!g++ -o example2 src/example2.cpp\n",
    "!g++ -o example2_sol src/example2_sol.cpp"
   ]
  },
  {
   "cell_type": "code",
   "execution_count": null,
   "metadata": {},
   "outputs": [],
   "source": [
    "print(\" Your answer:\")\n",
    "start = time.time()\n",
    "!./example2 1000000\n",
    "end = time.time()\n",
    "print(\"Factorizing took \" + str(end - start) + \" seconds\")\n",
    "\n",
    "print(\"\\n Solution:\")\n",
    "start = time.time()\n",
    "!./example2_sol 1000000\n",
    "end = time.time()\n",
    "print(\"Factorizing took \" + str(end - start) + \" seconds\")"
   ]
  },
  {
   "cell_type": "markdown",
   "metadata": {},
   "source": [
    "## Challenge Problems"
   ]
  },
  {
   "cell_type": "markdown",
   "metadata": {},
   "source": [
    "These problems are taken from [project euler](https://projecteuler.net/). This is a very nice webpage to test your coding knowledge. I totally recommend to go there, create an account, and start solving problems!!"
   ]
  },
  {
   "cell_type": "markdown",
   "metadata": {},
   "source": [
    "### Problem 1"
   ]
  },
  {
   "cell_type": "markdown",
   "metadata": {},
   "source": [
    "If we list all the natural numbers below 10 that are multiples of 3 or 5, we get 3, 5, 6 and 9. The sum of these multiples is 23. Find the sum of all the multiples of 3 or 5 below 1000."
   ]
  },
  {
   "cell_type": "code",
   "execution_count": null,
   "metadata": {},
   "outputs": [],
   "source": [
    "!gedit src/problem1.cpp"
   ]
  },
  {
   "cell_type": "code",
   "execution_count": null,
   "metadata": {},
   "outputs": [],
   "source": [
    "!g++ -o problem1 src/problem1.cpp\n",
    "!g++ -o problem1_sol src/problem1_sol.cpp"
   ]
  },
  {
   "cell_type": "code",
   "execution_count": null,
   "metadata": {},
   "outputs": [],
   "source": [
    "print(\" Your result:\")\n",
    "!./problem1 1000\n",
    "print(\"\\n Solution:\")\n",
    "!./problem1_sol 1000"
   ]
  },
  {
   "cell_type": "markdown",
   "metadata": {},
   "source": [
    "### Problem 2"
   ]
  },
  {
   "cell_type": "markdown",
   "metadata": {},
   "source": [
    "The prime factors of 13195 are 5, 7, 13 and 29. What is the largest prime factor of the number 600851475143? As a side note, remember that the standart `int` type goes from -2147483648 to 2147483647. You might want to look on the web how to deal with larger numbers, **and how to convert them from ascii**. Good luck with that."
   ]
  },
  {
   "cell_type": "code",
   "execution_count": null,
   "metadata": {},
   "outputs": [],
   "source": [
    "!gedit src/problem1.cpp"
   ]
  },
  {
   "cell_type": "code",
   "execution_count": null,
   "metadata": {},
   "outputs": [],
   "source": [
    "!g++ -o problem2 src/problem2.cpp\n",
    "!g++ -o problem2_sol src/problem2_sol.cpp"
   ]
  },
  {
   "cell_type": "code",
   "execution_count": null,
   "metadata": {},
   "outputs": [],
   "source": [
    "print(\" Your result:\")\n",
    "!./problem2 600851475143\n",
    "print(\"\\n Solution:\")\n",
    "!./problem2_sol 600851475143"
   ]
  },
  {
   "cell_type": "code",
   "execution_count": null,
   "metadata": {},
   "outputs": [],
   "source": []
  }
 ],
 "metadata": {
  "kernelspec": {
   "display_name": "Python 3",
   "language": "python",
   "name": "python3"
  },
  "language_info": {
   "codemirror_mode": {
    "name": "ipython",
    "version": 3
   },
   "file_extension": ".py",
   "mimetype": "text/x-python",
   "name": "python",
   "nbconvert_exporter": "python",
   "pygments_lexer": "ipython3",
   "version": "3.6.3"
  }
 },
 "nbformat": 4,
 "nbformat_minor": 2
}

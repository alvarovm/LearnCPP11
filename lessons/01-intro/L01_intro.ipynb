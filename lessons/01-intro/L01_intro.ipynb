{
 "cells": [
  {
   "cell_type": "markdown",
   "metadata": {},
   "source": [
    "# Lesson 1: Introduction to C++"
   ]
  },
  {
   "cell_type": "markdown",
   "metadata": {},
   "source": [
    "In this lesson we will learn:\n",
    "1. Write a minimal C++ code\n",
    "2. Learn about variable types and assignments\n",
    "3. Input and output of data\n",
    "4. Compile and run"
   ]
  },
  {
   "cell_type": "markdown",
   "metadata": {},
   "source": [
    "## Hello world!"
   ]
  },
  {
   "cell_type": "markdown",
   "metadata": {},
   "source": [
    "Writting a simle C++ code is very easy. The file `1-hello.cpp` contains a minimal example of a program in C++. You can open it with gedit (see comand below), and explore it. You will see several sections in that code that we will analyze."
   ]
  },
  {
   "cell_type": "code",
   "execution_count": 1,
   "metadata": {},
   "outputs": [],
   "source": [
    "!gedit src/1-hello.cpp"
   ]
  },
  {
   "cell_type": "markdown",
   "metadata": {},
   "source": [
    "The top of the file includes the libraries. Some functions are in libraries that you need to include. In the example above, we are only using the `cout` function, which is inside the `iostream` library. In order to include libraries, you need to add the line `#include <library>` if it is a predefined library, or `#include \"library.h\"` if it is a user-defined library."
   ]
  },
  {
   "cell_type": "markdown",
   "metadata": {},
   "source": [
    "In C++, the main program is an integer function called `main`. Overall the function, the first one that will be executed is this one. The **return value** is 0 if the program ends properly, or another value if it doesn't. Any function, loops, decision trees, and so on is limited by `{}`, and the region inside the curly brackets is called **scope**. "
   ]
  },
  {
   "cell_type": "markdown",
   "metadata": {},
   "source": [
    "Inside the scope of the main function, we only have two instructions:\n",
    "- `std::cout` is the function that prints to the screen. The operator `<<` puts, from right to left, the text, variable contents, and so on inside the stream that will be printed to the screen. `std::endl` is an end-of-line caracter (equivalent to `\\n`)\n",
    "- `return 0` indicates that if the function reaches that point, it must be terminated with an exit value of 0.\n",
    "- Note that the instruction lines end always with `;`. If you forget it, you will get compilation errors.\n",
    "- Note that we also have something like `std::`. This makes reference to the namespace, and we will learn more about it later."
   ]
  },
  {
   "cell_type": "markdown",
   "metadata": {},
   "source": [
    "Now we need to compile the code. The compiler will translate the C++ language to machine language, and make it understandable to your computer. The GNU C++ compiler is `g++`. For now, the syntax is very simple, so we can compile the code without having to use a `Makefile`. To compile a program, we run the following command:"
   ]
  },
  {
   "cell_type": "code",
   "execution_count": null,
   "metadata": {},
   "outputs": [],
   "source": [
    "!g++ -o hello src/1-hello.cpp"
   ]
  },
  {
   "cell_type": "markdown",
   "metadata": {},
   "source": [
    "The syntax of `g++` is the following:<br>\n",
    "`g++ -o output_binary_name source.cpp`<br>\n",
    "Where the `output_binary_name` is the program we will run later, and the `source.cpp` file is the file we just wrote and contains all the functions, instructions, ... In order to run our recently compiled code, we just call the executable:"
   ]
  },
  {
   "cell_type": "code",
   "execution_count": null,
   "metadata": {},
   "outputs": [],
   "source": [
    "!./hello"
   ]
  },
  {
   "cell_type": "markdown",
   "metadata": {},
   "source": [
    "Wolala! We just compiled and run our first C++ program!"
   ]
  },
  {
   "cell_type": "markdown",
   "metadata": {},
   "source": [
    "## Declaring and assigning variables"
   ]
  },
  {
   "cell_type": "markdown",
   "metadata": {},
   "source": [
    "In C++ we have several types of basic variables. For now, we will focus on the following:\n",
    "- **int** defines an integer number (32 bit)\n",
    "- **float** defines a real number with single precision (32 bit)\n",
    "- **double** defines a real number with double precission (64 bit)\n",
    "\n",
    "We can **declare** a variable by doing:\n",
    "```c++\n",
    "int a;\n",
    "float b;\n",
    "double c;\n",
    "```\n",
    "At this point, variables are declared, but their content is empty. We can declare and initialize, or just declare and initialize later:\n",
    "```c++\n",
    "int a = 0;\n",
    "float b;\n",
    "double c = 1.32E-03;\n",
    "b = 2.1;\n",
    "```\n",
    "For all these numeric variable types, we can perform different operations such as additions, substractions, multiplications... The file `2-assignments.cpp` contains an example of how to assign variables in C++. The text after `//` is a comment, and it will be ignored by the compiler."
   ]
  },
  {
   "cell_type": "code",
   "execution_count": null,
   "metadata": {},
   "outputs": [],
   "source": [
    "!gedit src/2-assignments.cpp"
   ]
  },
  {
   "cell_type": "code",
   "execution_count": null,
   "metadata": {},
   "outputs": [],
   "source": [
    "!g++ -o assignments src/2-assignments.cpp"
   ]
  },
  {
   "cell_type": "code",
   "execution_count": null,
   "metadata": {},
   "outputs": [],
   "source": [
    "!./assignments"
   ]
  },
  {
   "cell_type": "markdown",
   "metadata": {},
   "source": [
    "## Inputing data in the program"
   ]
  },
  {
   "cell_type": "markdown",
   "metadata": {},
   "source": [
    "Until now, the programs we have written are rigid. This means that the user can only modify the result by going into the source, and changing the assignment of the variables. There are two ways to obtain information from the user without having to recompile the code."
   ]
  },
  {
   "cell_type": "markdown",
   "metadata": {},
   "source": [
    "### Interactive data parsing"
   ]
  },
  {
   "cell_type": "markdown",
   "metadata": {},
   "source": [
    "One way to get information from the user is to use `std::cin`. Similar to `std::cout`, it will take values from the user and save them in variables. Let's modify the previous file a little bit. Open the `3-inputcin.cpp` file to see the changes:"
   ]
  },
  {
   "cell_type": "code",
   "execution_count": null,
   "metadata": {},
   "outputs": [],
   "source": [
    "!gedit src/3-inputcin.cpp"
   ]
  },
  {
   "cell_type": "code",
   "execution_count": null,
   "metadata": {},
   "outputs": [],
   "source": [
    "!g++ -o inputcin src/3-inputcin.cpp"
   ]
  },
  {
   "cell_type": "markdown",
   "metadata": {},
   "source": [
    "Since `cin` needs interaction from the command line, we cannot execute it here. To see how does it work, open a new terminal, and execute the program we just compiled:\n",
    "```sh\n",
    "$ ./inputcin\n",
    "How many days?\n",
    "10\n",
    "There are 240 hours in 10 days.\n",
    "```\n",
    "I entered 10, but you can enter any number you want."
   ]
  },
  {
   "cell_type": "markdown",
   "metadata": {},
   "source": [
    "### Argument parsing"
   ]
  },
  {
   "cell_type": "markdown",
   "metadata": {},
   "source": [
    "A better way to input data to a program is through command line arguments. Until now, our `main` function never had arguments, but there is the option of passing arguments to that function. Thus, instead of:\n",
    "```c++\n",
    "int main() {\n",
    "```\n",
    "we will write:\n",
    "```c++\n",
    "int main(int argc, char** argv) {\n",
    "```\n",
    "The two arguments are `argc` and `argv`. The first one, `argc`, is an integer that contains the number of arguments you passed through command line, while `argv` contains the actual arguments. We have previously seen the type **int**, but we never say the **char** type. A **char** is an 8 bit variable type that contains an integer for a given character (see [ASCII](https://www.asciitable.com/)). The `*` after the **char** means that the variable is a pointer, and the `*` after that means the everything before is a pointer. Essentially, what we are passing as a second argument is a pointer of pointers of chars, and for now, when I say pointer, think about a vector. Which makes sense, since a word is a vector of letters, and a sentence (or all the command line arguments) is a vector of words."
   ]
  },
  {
   "cell_type": "markdown",
   "metadata": {},
   "source": [
    "The arguments in **argv** can be accessed as `argv[0]`, `argv[1]`, and so on, where `argv[0]` is the name of the executable, and `argv[1]` is the first argument we pass. However, all the arguments will be a `char` pointer. In order to convert them to integer, there are builtin functions that allow this conversion. Look at the file `4-argparsing.cpp` to see the same example but passing the number of hours as a command line argument:"
   ]
  },
  {
   "cell_type": "code",
   "execution_count": null,
   "metadata": {},
   "outputs": [],
   "source": [
    "!gedit src/4-argparsing.cpp"
   ]
  },
  {
   "cell_type": "code",
   "execution_count": null,
   "metadata": {},
   "outputs": [],
   "source": [
    "!g++ -o argparsing src/4-argparsing.cpp"
   ]
  },
  {
   "cell_type": "markdown",
   "metadata": {},
   "source": [
    "Now we have it compiled, and to run it and pass the argument, we execute the program and add, after the name of the executable, the arguments we want to pass. "
   ]
  },
  {
   "cell_type": "code",
   "execution_count": null,
   "metadata": {},
   "outputs": [],
   "source": [
    "!./argparsing 10"
   ]
  },
  {
   "cell_type": "markdown",
   "metadata": {},
   "source": [
    "## Good Practices in Coding"
   ]
  },
  {
   "cell_type": "markdown",
   "metadata": {},
   "source": [
    "If you look at the codes we have previously written, they are all readable and understandable. Look at this code below."
   ]
  },
  {
   "cell_type": "code",
   "execution_count": null,
   "metadata": {},
   "outputs": [],
   "source": [
    "!gedit src/5-badcode.cpp"
   ]
  },
  {
   "cell_type": "markdown",
   "metadata": {},
   "source": [
    "Do you think is readable? My guess is that unless you are a sociopath with a distorted mind, you will say No. One of the most important things when we write code is that it has to work, but an equally important thing is that it has to be readable and maintainable. However, the code above compiles and runs!"
   ]
  },
  {
   "cell_type": "code",
   "execution_count": null,
   "metadata": {},
   "outputs": [],
   "source": [
    "!g++ -o badcode src/5-badcode.cpp"
   ]
  },
  {
   "cell_type": "code",
   "execution_count": null,
   "metadata": {},
   "outputs": [],
   "source": [
    "!./badcode"
   ]
  },
  {
   "cell_type": "markdown",
   "metadata": {},
   "source": [
    "There are several facts that must be taken into account:\n",
    "- Each block that enters a new scope must be tabulated. How many spaces you use is up to you, but the usual is something between 2 and 4. Thus, something like:\n",
    "\n",
    "```c++\n",
    "#include <iostream>\n",
    "int main() {\n",
    "double x = 1;\n",
    "    double y = 2;\n",
    "  double z = x + y;\n",
    "    std::cout << z << std::endl;\n",
    "   return 0;\n",
    "    \n",
    "}\n",
    "```\n",
    "should be written as:\n",
    "```c++\n",
    "#include <iostream>\n",
    "int main() {\n",
    "    double x = 1;\n",
    "    double y = 2;\n",
    "    double z = x + y;\n",
    "    std::cout << z << std::endl;\n",
    "    return 0;\n",
    "    \n",
    "}\n",
    "```\n",
    "- Make good use of the blank lines. Use them so separate different blocks of the code. We could improve the precious code by doing:\n",
    "\n",
    "```c++\n",
    "#include <iostream>\n",
    "int main() {\n",
    "    \n",
    "    double x = 1;\n",
    "    double y = 2;\n",
    "    double z = x + y;\n",
    "            \n",
    "    std::cout << z << std::endl;\n",
    "            \n",
    "    return 0;\n",
    "}\n",
    "```\n",
    "- Eventhough you think you don't need them, WRITE COMMENTS. It will help future you and people who may have to read, use, or modify your code, to understand what is going on. As an example:\n",
    "\n",
    "```c++\n",
    "#include <iostream> // cout\n",
    "\n",
    "/* This program computes the sum of two numbers defined inside \n",
    "   the main function, and it prints the result on teh screen */\n",
    "int main() {\n",
    "    \n",
    "    // Declaring summands\n",
    "    double x = 1;\n",
    "    double y = 2;\n",
    "            \n",
    "    // Compute the sum        \n",
    "    double z = x + y;\n",
    "    \n",
    "    // Print result on screen\n",
    "    std::cout << z << std::endl;\n",
    "            \n",
    "    return 0;\n",
    "}\n",
    "```"
   ]
  },
  {
   "cell_type": "markdown",
   "metadata": {},
   "source": [
    "## Variable names"
   ]
  },
  {
   "cell_type": "markdown",
   "metadata": {},
   "source": [
    "### Variable Name Requirements"
   ]
  },
  {
   "cell_type": "markdown",
   "metadata": {},
   "source": [
    "- Must start with a letter of the alphabet (a-z, A-Z) or `_`\n",
    "- Cannot have a space in the name\n",
    "- Cannot have special characters, with exception of `_`\n",
    "- Must not be a C++ keyword"
   ]
  },
  {
   "cell_type": "markdown",
   "metadata": {},
   "source": [
    "### Variable Name Suggestions"
   ]
  },
  {
   "cell_type": "markdown",
   "metadata": {},
   "source": [
    "- Should be readable. By convention, variables start with a lower case letter, and if composed by different words, the words are separated by `_`, or by capitalizing the first letter of each word. Doesn't matter what you use but be consistent.\n",
    "- Should be shorter than 31 characters, but it can be longer. The length is for readability.\n",
    "- The name should be meaningful."
   ]
  },
  {
   "cell_type": "markdown",
   "metadata": {},
   "source": [
    "C++ is case sensitive. This means that two variables called `Var` and `var` will be different. Let's see some examples, and discuss if they are valid names, and if they are appropriate names:\n",
    "\n",
    "```c++\n",
    "double a = 0.0;\n",
    "double wage per hour = 10.0;\n",
    "double wage/hour = 2.0;\n",
    "double 2x = 2 * x;\n",
    "double wageXhour = 12.0;\n",
    "Int i = 0;\n",
    "int _i2 = 1;\n",
    "double x_ = 0.0;\n",
    "```"
   ]
  },
  {
   "cell_type": "markdown",
   "metadata": {},
   "source": [
    "## Exercises"
   ]
  },
  {
   "cell_type": "markdown",
   "metadata": {},
   "source": [
    "### Exercise 1"
   ]
  },
  {
   "cell_type": "markdown",
   "metadata": {},
   "source": [
    "The file `exercise01.cpp` contains a program that given the salary per hour, the number of hours worked, and the percentage that goes to tax, returns the amount of money that will be put in your bank account. However, it does not compile."
   ]
  },
  {
   "cell_type": "code",
   "execution_count": null,
   "metadata": {},
   "outputs": [],
   "source": [
    "!gedit src/exercise01.cpp"
   ]
  },
  {
   "cell_type": "code",
   "execution_count": null,
   "metadata": {},
   "outputs": [],
   "source": [
    "!g++ -o exercise01 src/exercise01.cpp"
   ]
  },
  {
   "cell_type": "markdown",
   "metadata": {},
   "source": [
    "1. Fix the code so it compiles. Then try running it with \\$10/hour, 10 hours, and a 10 percent of tax.\n",
    "```sh\n",
    "./exercise01 10 10 10\n",
    "```\n",
    "Does it work? Cool!. But let's try now with \\$10.4/hour ... \n",
    "```sh\n",
    "./exercise01 10.4 10 10\n",
    "```\n",
    "Does it work? \n",
    "2. Fix the code so it performs the proper calculations. You might need to look at a new function similar to the ones you know... The best way to do this is to look at [cplusplus](http://www.cplusplus.com/reference/), or just google \"how to ... in c++\". You can look at the solution if you get stacked."
   ]
  },
  {
   "cell_type": "code",
   "execution_count": null,
   "metadata": {},
   "outputs": [],
   "source": [
    "!g++ -o exercise01_sol src/exercise01_sol.cpp"
   ]
  },
  {
   "cell_type": "code",
   "execution_count": null,
   "metadata": {},
   "outputs": [],
   "source": [
    "!./exercise01_sol 10.4 10 10"
   ]
  },
  {
   "cell_type": "markdown",
   "metadata": {},
   "source": [
    "### Exercise 2"
   ]
  },
  {
   "cell_type": "markdown",
   "metadata": {},
   "source": [
    "The file `exercise02.cpp` contains a basic C++ template. Create a program that given the two lengths of the sides of a rectangular field in meters, it computes the cost of maintaining the grass per day, which is \\$1.04/ft$^2$/day. Edit, compile, and run your code with these commands:"
   ]
  },
  {
   "cell_type": "code",
   "execution_count": null,
   "metadata": {},
   "outputs": [],
   "source": [
    "!gedit src/exercise02.cpp"
   ]
  },
  {
   "cell_type": "code",
   "execution_count": null,
   "metadata": {},
   "outputs": [],
   "source": [
    "!g++ -o exercise02 src/exercise02.cpp"
   ]
  },
  {
   "cell_type": "code",
   "execution_count": null,
   "metadata": {},
   "outputs": [],
   "source": [
    "!./exercise02"
   ]
  },
  {
   "cell_type": "markdown",
   "metadata": {},
   "source": [
    "And if you get stack, compile and run the solution to see the result."
   ]
  },
  {
   "cell_type": "code",
   "execution_count": null,
   "metadata": {},
   "outputs": [],
   "source": [
    "!g++ -o exercise02_sol src/exercise02_sol.cpp"
   ]
  },
  {
   "cell_type": "code",
   "execution_count": null,
   "metadata": {},
   "outputs": [],
   "source": [
    "!./exercise02_sol 10 15"
   ]
  },
  {
   "cell_type": "code",
   "execution_count": null,
   "metadata": {},
   "outputs": [],
   "source": []
  },
  {
   "cell_type": "code",
   "execution_count": null,
   "metadata": {},
   "outputs": [],
   "source": []
  }
 ],
 "metadata": {
  "kernelspec": {
   "display_name": "Python 3",
   "language": "python",
   "name": "python3"
  },
  "language_info": {
   "codemirror_mode": {
    "name": "ipython",
    "version": 3
   },
   "file_extension": ".py",
   "mimetype": "text/x-python",
   "name": "python",
   "nbconvert_exporter": "python",
   "pygments_lexer": "ipython3",
   "version": "3.6.3"
  }
 },
 "nbformat": 4,
 "nbformat_minor": 2
}

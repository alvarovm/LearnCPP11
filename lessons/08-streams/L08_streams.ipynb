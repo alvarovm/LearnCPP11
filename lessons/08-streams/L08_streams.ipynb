{
 "cells": [
  {
   "cell_type": "markdown",
   "metadata": {},
   "source": [
    "# Streams"
   ]
  },
  {
   "cell_type": "markdown",
   "metadata": {},
   "source": [
    "## Introduction"
   ]
  },
  {
   "cell_type": "markdown",
   "metadata": {},
   "source": [
    "Managing how to input and output data in our code is something that we have already been doing, without knowing much about what are we using. A **stream** is a buffer where we dump information during the execution of the code, and then we flush it to the corresponding output. We don't know which is the size of the information we will recieve/send. It would be like a swamp. An unknown amount of water comes, and we deliver it as needed. As for types of streams, there are two:\n",
    "- Input Streams (`istreams`) recieve data from the outside\n",
    "- Output streams (`ostreams`) send data to the outside\n",
    "\n",
    "The most used (and default) streams in C++ are the istream `cin` and ostream `cout` objects. We have been using them for printing on the screen, and to input data into a variable from the terminal. "
   ]
  },
  {
   "cell_type": "markdown",
   "metadata": {},
   "source": [
    "## Ostreams"
   ]
  },
  {
   "cell_type": "markdown",
   "metadata": {},
   "source": [
    "In order to put data in the output stream, we need to use the operator `<<`. This operator evaluates from left to right, so we can actually connect several of them in the same line of code:\n",
    "```c++\n",
    "std::cout << \"One \" << \"Two \" << std::endl;\n",
    "std::cout << \"Three\";\n",
    "std::cout << \"Four \" << std::endl;\n",
    "```"
   ]
  },
  {
   "cell_type": "markdown",
   "metadata": {},
   "source": [
    "## Istreams"
   ]
  },
  {
   "cell_type": "markdown",
   "metadata": {},
   "source": [
    "Same way as the ostreams, the istreams also need an operator, but in this case is `>>`. And also, in the same way, we can put several inputs in the same line:\n",
    "```c++\n",
    "int a,b,c;\n",
    "std::cin >> a >> b >> c;\n",
    "```\n",
    "The command above will expect that the user inputs 3 integer values in the same line."
   ]
  },
  {
   "cell_type": "markdown",
   "metadata": {},
   "source": [
    "## Format of the output"
   ]
  },
  {
   "cell_type": "markdown",
   "metadata": {},
   "source": [
    "By default, the variables and text that we print will be *as they are*. This means that the number of characters, format of numbers, and so on, will be the default. However, there might be situations in which we want to format the output in a concrete way. In order to do so, we can use functions included in `<ios>` or `<iomanip>`. Here there are some of them that might be useful:\n",
    "- `setw(n)` will set the with of the output to `n` characters, filling the rest by spaces by default\n",
    "- `setfill(c)` will fill the empty spaces with the character `c`. It can be a letter, a symbol, ...\n",
    "- `left` and `right` will allign to the left or to the right respectively. Right is the default\n",
    "- `fixed` will print a number using standart floating point notation\n",
    "- `scientific` will print numbers in scientific notation\n",
    "- `setprecision(n)` will set the number of decimal points to `n` if the format has been previously set to scientific or fixed. If not, it defines the number of numbers in the output.\n",
    "All these manipulators will be active until the end of the code, excepting `setw`, which will be only valid for the next output."
   ]
  },
  {
   "cell_type": "markdown",
   "metadata": {},
   "source": [
    "All these manipulations are functions, and are used with the `<<` operator. As an example:\n",
    "```c++\n",
    "double num = 12.87243728376;\n",
    "std::cout << std::scientific << std::setprecision(2) << std::setw(9) << num << std::endl;\n",
    "```\n",
    "will print `\"  1.29E+01\"`. Note the spaces at the beggining."
   ]
  },
  {
   "cell_type": "markdown",
   "metadata": {},
   "source": [
    "## String streams"
   ]
  },
  {
   "cell_type": "markdown",
   "metadata": {},
   "source": [
    "Sometimes is useful to read from a string rather than from user input. Imagine you are reading a file line by line. By default, you are going to input the whole line at once into a string stream. Then, you will output the contents of that stream into the proper variables. In order to use string streams, one needs to include the `<string>` and `<sstream>` libraries. As a note, `<sstream>` already includes `<string>`. There are two types of stringtreams: input (`istringstream`) and output (`ostringstream`). Let's see an example on how to use `istringstream`. Imagine we are reading an xyz, and we want to store the atoms and coordinates:\n",
    "```c++\n",
    "#include <sstream>\n",
    "\n",
    "int main() {\n",
    "  // stuff until we read an XYZ file\n",
    "  // We are managed it to get a line from the file. I will just store it in a string\n",
    "  std::string line = \"H 0.0 0.0 1.0\";\n",
    "  \n",
    "  // Now we create a stringstream with that string\n",
    "  std::istringstream iss(line);\n",
    "  \n",
    "  // And finally, write in the proper variables\n",
    "  std::string atom;\n",
    "  double xyz[3];\n",
    "  iss >> atom >> xyz[0] >> xyz[1] >> xyz[2];\n",
    "  \n",
    "  // continue til end\n",
    "  return 0;\n",
    "}\n",
    "```"
   ]
  },
  {
   "cell_type": "markdown",
   "metadata": {},
   "source": [
    "In a similar way, we can do the opposite. We can write on a stringtream and then convert that to a string. In order to \"convert\" from `ostringstream` to `string`, we can use the `ostringstream.str()` member function.\n",
    "```c++\n",
    "// Declare and initialize a couple of variables with strings\n",
    "std::string city = \"San Diego\";\n",
    "std::string state = \"CA\";\n",
    "\n",
    "// Declare an output string stream and fill it with the city and state\n",
    "std::ostringstream oss;\n",
    "oss << city << \", \" << state;\n",
    "\n",
    "// Flush the content of the stream into a string variable\n",
    "std::string cityState = oss.str();\n",
    "```"
   ]
  },
  {
   "cell_type": "markdown",
   "metadata": {},
   "source": [
    "## File streams"
   ]
  },
  {
   "cell_type": "markdown",
   "metadata": {},
   "source": [
    "This is probably what you have been expecting since the first or the second lesson. How the heck do I read a file in C++? Well, your answer comes in the next lines. We are going to use the **file streams**. In order to use them, we need the library `<fstream>`. This includes both the input (`ifstream`) and output (`ofstream`) streams. "
   ]
  },
  {
   "cell_type": "markdown",
   "metadata": {},
   "source": [
    "### Input file streams"
   ]
  },
  {
   "cell_type": "markdown",
   "metadata": {},
   "source": [
    "First thing we need to do is to declare the stream:\n",
    "```c++\n",
    "std::ifstream ifs;\n",
    "```\n",
    "Next we need to set which is the file we open. To open a file, we need to use the member function `ifs.open(filename [,mode])`. Filename is a `char*`. **We cannot pass a `std::string` as filename**. If we have a string with the filename, we have to convert it to a `char*` array by using the string member function `s.c_str()`. The mode is a little bit irrelevant for the input stream, since we will always read. Since is an optional argument, we will not put it.\n",
    "```c++\n",
    "std::string filename = \"input.txt\";\n",
    "ifs.open(filename.c_str());\n",
    "```\n",
    "Now we can start reading. Let's assume that the file input.txt contains name and last name in the same row, separated by spaces. If we want to read them, we just need to do:\n",
    "```c++\n",
    "std::string name, lastname;\n",
    "ifs >> name >> lastname;\n",
    "```\n",
    "Now name and lastname contain the proper values. Finally, we need to close the file, since we are done reading.\n",
    "```c++\n",
    "ifs.close()\n",
    "```"
   ]
  },
  {
   "cell_type": "markdown",
   "metadata": {},
   "source": [
    "### Output file streams"
   ]
  },
  {
   "cell_type": "markdown",
   "metadata": {},
   "source": [
    "In the same way we work with input file streams, we can also work with output file streams. As a note, all the format options we saw for `std::cout` in the previous section, will also work for this one, so we can have formatted outputs in the file. Again, first thing is to declare the stream:\n",
    "```c++\n",
    "std::ofstream ofs;\n",
    "```\n",
    "Then, we need to open the file where we will write. By default, it will delete any content in the file. In order to append, we need to open it in apend mode.\n",
    "```c++\n",
    "ofs.open(\"test.txt\", ios_base::app)   // Will open the file in append mode\n",
    "ofs.open(\"test.txt\")                  // Will open the file deleting everything\n",
    "ofs.open(\"test.txt\", ios_base::trunc) // Will open the file deleting everything\n",
    "```\n",
    "Now we can write in the file anything we want, as we do with `std::cout`:\n",
    "```c++\n",
    "ofs << \"This is \" << \"a test.\" << std::endl;\n",
    "```\n",
    "And finally, we need to close it.\n",
    "```c++\n",
    "ofs.close();\n",
    "```\n",
    "Have a look at [the cplusplus webpage](http://www.cplusplus.com/reference/fstream/ofstream/) to see all the options you have with ofstreams and ifstreams."
   ]
  },
  {
   "cell_type": "markdown",
   "metadata": {},
   "source": [
    "### Some useful components of file streams"
   ]
  },
  {
   "cell_type": "markdown",
   "metadata": {},
   "source": [
    "Sometimes we need to read a file but we don't know how many lines does that file have. In this case, we need to loop over each line, and perform the necessary operations with each one of them. In order to know if we are at the end of the file or not, we can make use of the member functions `ifs.eof()` or `ifs.good()`. Both of them are the same, but the second one is widely used since is more general. Your choice. "
   ]
  },
  {
   "cell_type": "markdown",
   "metadata": {},
   "source": [
    "Another useful tool is to use the `ifs/ofs.is_open()` member function. This will return true if the file has been succesfully opened. As an example, let's look at the following file. It reads from a file called `reading_01_in.txt` two columns of numbers, and outputs the sum of them in a file called `reading_01_out.txt`."
   ]
  },
  {
   "cell_type": "code",
   "execution_count": null,
   "metadata": {},
   "outputs": [],
   "source": [
    "!gedit src/reading_01.cpp"
   ]
  },
  {
   "cell_type": "code",
   "execution_count": null,
   "metadata": {},
   "outputs": [],
   "source": [
    "!g++ -o reading_01 src/reading_01.cpp"
   ]
  },
  {
   "cell_type": "code",
   "execution_count": null,
   "metadata": {},
   "outputs": [],
   "source": [
    "!./reading_01\n",
    "!cat reading_01_out.txt"
   ]
  },
  {
   "cell_type": "markdown",
   "metadata": {},
   "source": [
    "Do you see anything wrong with the output file? It is printing twice the last number. The reason for this is the order in which it is being evaluated. When we reach the last two numbers, `ifs.good()` is still true, sice technically, we haven't reached the `end-of-file`. However, we read again, and now we reached it and set `ifs.good()` to false. But we still read and print one more time. The stream will read again the last line in order not to return an error. How can we fix this? One way to bypass this is the following:"
   ]
  },
  {
   "cell_type": "code",
   "execution_count": null,
   "metadata": {},
   "outputs": [],
   "source": [
    "!gedit src/reading_02.cpp"
   ]
  },
  {
   "cell_type": "code",
   "execution_count": null,
   "metadata": {},
   "outputs": [],
   "source": [
    "!g++ -o reading_02 src/reading_02.cpp"
   ]
  },
  {
   "cell_type": "code",
   "execution_count": null,
   "metadata": {},
   "outputs": [],
   "source": [
    "!./reading_02\n",
    "!cat reading_01_out.txt"
   ]
  },
  {
   "cell_type": "markdown",
   "metadata": {},
   "source": [
    "## Examples"
   ]
  },
  {
   "cell_type": "markdown",
   "metadata": {},
   "source": [
    "### Example 1"
   ]
  },
  {
   "cell_type": "markdown",
   "metadata": {},
   "source": [
    "Let's write a code that will calculate the RMSD of a file. The code will print in the screen the RMSD in scientific format with 4 decimal places. The data file is called `example_01_in.txt` and is located inside `src`."
   ]
  },
  {
   "cell_type": "code",
   "execution_count": null,
   "metadata": {},
   "outputs": [],
   "source": [
    "!gedit example_01.cpp"
   ]
  },
  {
   "cell_type": "code",
   "execution_count": null,
   "metadata": {},
   "outputs": [],
   "source": [
    "!g++ -o example_01 src/example_01.cpp\n",
    "!g++ -o example_01_sol src/example_01_sol.cpp"
   ]
  },
  {
   "cell_type": "code",
   "execution_count": null,
   "metadata": {},
   "outputs": [],
   "source": [
    "print(\"Your answer:\")\n",
    "!./example_01\n",
    "print(\"\\nSolution:\")\n",
    "!./example_01_sol"
   ]
  },
  {
   "cell_type": "markdown",
   "metadata": {},
   "source": [
    "### Example 2"
   ]
  },
  {
   "cell_type": "markdown",
   "metadata": {},
   "source": [
    "This code should read an unkown amount of numbers from a file. Each line might have different number of numbers. We want to print them in a file that will have 3 columns with as many rows as needed, each column of width 20, and the numbers expressed as decimal point numbers (`12.436`, `0.00001`, ...) with exactly 5 decimal numbers, even if they are zeros. The data file is in `src/example_02_in.txt`, and should be given as a command line argument. The code should not behave weird if the file doesn't exist."
   ]
  },
  {
   "cell_type": "code",
   "execution_count": null,
   "metadata": {},
   "outputs": [],
   "source": [
    "!gedit example_02.cpp"
   ]
  },
  {
   "cell_type": "code",
   "execution_count": null,
   "metadata": {},
   "outputs": [],
   "source": [
    "!g++ -o example_02 src/example_02.cpp\n",
    "!g++ -o example_02_sol src/example_02_sol.cpp"
   ]
  },
  {
   "cell_type": "code",
   "execution_count": null,
   "metadata": {},
   "outputs": [],
   "source": [
    "print(\"Your answer:\")\n",
    "!./example_02 src/thisFileDoesNotExist.txt\n",
    "!./example_02 src/example_02_in.txt\n",
    "print(\"\\nSolution:\")\n",
    "!./example_02_sol src/thisFileDoesNotExist.txt\n",
    "!./example_02_sol src/example_02_in.txt"
   ]
  },
  {
   "cell_type": "markdown",
   "metadata": {},
   "source": [
    "## Problems"
   ]
  },
  {
   "cell_type": "markdown",
   "metadata": {},
   "source": [
    "### Problem 1"
   ]
  },
  {
   "cell_type": "markdown",
   "metadata": {},
   "source": [
    "Let's recover the molecule class we created in the objects lesson. We will add a couple of functions:\n",
    "- `LoadXyz(std::ifstream &ifs)` will load an xyz into the class\n",
    "- `WriteXyz(std::ofstream &ofs)` will write all the information of the molecule into an xyz. This should print the atoms in a column of width 6, and the 3 coordinates in columns of width 20, scientific notation, and 8 decimal numbers.\n",
    "Modify the molecule class and implement these functions. The files that it will print (`mol1_out.xyz`, `mol2_out.xyz`, and `mols12_out.xyz`) should be the same as the input files in `src/problem_01`, with the comment set to 0 and properly formatted. Note also that we are **passing the streams as reference**. These functions should be able to handle more than one XYZ configuration in the xyz file, i.e., should be able to read a file like:\n",
    "```\n",
    "1\n",
    "0.0 \n",
    "H 0.0 0.0 0.0\n",
    "1\n",
    "0.0\n",
    "He 0.0 0.0 0.0\n",
    "```\n",
    "if I have two molecule variables in my main code. These functions will read ONLY one xyz configuration, and leave the stream ready to read the next one. Look at the main code if you have any question about how these functions will be called."
   ]
  },
  {
   "cell_type": "code",
   "execution_count": null,
   "metadata": {},
   "outputs": [],
   "source": [
    "!gedit src/problem_01/main.cpp"
   ]
  },
  {
   "cell_type": "code",
   "execution_count": null,
   "metadata": {},
   "outputs": [],
   "source": [
    "!gedit src/problem_01/molecule.h"
   ]
  },
  {
   "cell_type": "code",
   "execution_count": null,
   "metadata": {},
   "outputs": [],
   "source": [
    "!gedit src/problem_01/molecule.cpp"
   ]
  },
  {
   "cell_type": "code",
   "execution_count": null,
   "metadata": {},
   "outputs": [],
   "source": [
    "!g++ -o main src/problem_01/main.cpp src/problem_01/molecule.cpp\n",
    "!g++ -o main_sol src/problem_01_sol/main_sol.cpp src/problem_01_sol/molecule_sol.cpp"
   ]
  },
  {
   "cell_type": "code",
   "execution_count": null,
   "metadata": {},
   "outputs": [],
   "source": [
    "!./main\n",
    "!./main_sol"
   ]
  }
 ],
 "metadata": {
  "kernelspec": {
   "display_name": "Python 3",
   "language": "python",
   "name": "python3"
  },
  "language_info": {
   "codemirror_mode": {
    "name": "ipython",
    "version": 3
   },
   "file_extension": ".py",
   "mimetype": "text/x-python",
   "name": "python",
   "nbconvert_exporter": "python",
   "pygments_lexer": "ipython3",
   "version": "3.6.3"
  }
 },
 "nbformat": 4,
 "nbformat_minor": 2
}

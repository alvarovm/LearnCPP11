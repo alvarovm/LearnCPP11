{
 "cells": [
  {
   "cell_type": "markdown",
   "metadata": {},
   "source": [
    "# Objects"
   ]
  },
  {
   "cell_type": "markdown",
   "metadata": {},
   "source": [
    "## Introduction"
   ]
  },
  {
   "cell_type": "markdown",
   "metadata": {},
   "source": [
    "You will read more than once that C++ is an **object oriented** programming language. This is, C++ has the ability to deal with **object** and **classes** (they are equivalent names for the same thing). An **object** is just data and operations you can perform with that data that are together within the same infrastructure. As an example, imagine we have a store, and that we want to write something to check the stock. In our store, we have several things we sell, but each thing has several properties in comon with different values:\n",
    "- Name\n",
    "- Price\n",
    "- Number of items available\n",
    "\n",
    "Dealing with objects in the store would be annoying without classes. If we have a **class** called `item`, we can store information about each type of item, which is the price, and how many items we have left. Actually, during this workshop, you have already used classes without knowing it, such as `vector` or `string`. "
   ]
  },
  {
   "cell_type": "markdown",
   "metadata": {},
   "source": [
    "In C++, do define a class is as simple as:\n",
    "\n",
    "```c++\n",
    "class Item {\n",
    "  public:\n",
    "    // Mutators or Setters\n",
    "    void SetName(std::string name);\n",
    "    void SetPrice(double price);\n",
    "    void SetNumItems(int num_items);\n",
    "    \n",
    "    // Accessors or Getters\n",
    "    std::string GetName();\n",
    "    double GetPrice();\n",
    "    int GetNumItems();\n",
    "  private:\n",
    "    // Class members\n",
    "    std::string name_;\n",
    "    double price_;\n",
    "    int num_items_;\n",
    "};\n",
    "```\n",
    "Let's analyze this step by step. \n",
    "\n",
    "```c++\n",
    "class Item {\n",
    "```\n",
    "\n",
    "This first part sets the name of the class. The name of a class should be capitalized, without spaces/underscores, and if composed by several names, capitalize only the first letter of each word. \n",
    "\n",
    "```c++\n",
    "  public:\n",
    "```\n",
    "This `public:` means that once you create the class, you will be able to access everything that is after it. An example would be the `size()` subrouting of a vector or a string. You create the `vector` and then you can access the function `size()`.\n",
    "\n",
    "```c++\n",
    "    // Mutators or Setters\n",
    "    void SetName(std::string name);\n",
    "    void SetPrice(double price);\n",
    "    void SetNumItems(int num_items);\n",
    "```\n",
    "\n",
    "The **mutators** or **setters** are member functions or subroutines in your class that allow to modify variables of the class. In this example, we have 3 different functions that set three different variables. If a function is a setter, you usually start the function name with `Set...`, but there can be other type of functions that access the data like a print, calculate, ... \n",
    "\n",
    "```c++\n",
    "    // Accessors or Getters\n",
    "    std::string GetName();\n",
    "    double GetPrice();\n",
    "    int GetNumItems();\n",
    "```\n",
    "\n",
    "The **accessors** or **getters** are functions that allow to obtain the content of variables of the class. Usually, you start them with `Get...`. \n",
    "\n",
    "```c++\n",
    "  private:\n",
    "```\n",
    "\n",
    "The `private:` keyword makes everything that is after it not accessible from the outside. **It is usually a good practice to make all the member variables private and only allow their modification via setters and getters**. Sometimes, one might add some private helper functions to the class. Not only the standard variables can be private, but there can also be functions or subroutines that are private.\n",
    "\n",
    "```c++\n",
    "    // Class members\n",
    "    std::string name_;\n",
    "    double price_;\n",
    "    int num_items_;\n",
    "};\n",
    "```\n",
    "\n",
    "Finally, we have the **class member variables**. These variables should be private, and they contain the information of the class. Note that all the variables that belong to the class end with `_`. This is a common practice to differenciate variables that belong to the class from variables defined and declared in the class functions. It is not mandatory, but strongly recommended to improve readability of the code."
   ]
  },
  {
   "cell_type": "markdown",
   "metadata": {},
   "source": [
    "In the class previously defines, we have declared the functions, but we have not defined them. Usually, we make the class declaration in the header file, and the class definition in the source file. The header file should contain all the information about the class, its member functions and its member variables, properly commented and documented. Let's look at the following example, which creates the item class and uses it in the main:"
   ]
  },
  {
   "cell_type": "code",
   "execution_count": null,
   "metadata": {},
   "outputs": [],
   "source": [
    "!gedit src/item_v1.h"
   ]
  },
  {
   "cell_type": "code",
   "execution_count": null,
   "metadata": {},
   "outputs": [],
   "source": [
    "!gedit src/item_v1.cpp"
   ]
  },
  {
   "cell_type": "code",
   "execution_count": null,
   "metadata": {},
   "outputs": [],
   "source": [
    "!gedit src/main_item_v1.cpp"
   ]
  },
  {
   "cell_type": "code",
   "execution_count": null,
   "metadata": {},
   "outputs": [],
   "source": [
    "!g++ -o item_v1.exe src/main_item_v1.cpp src/item_v1.cpp "
   ]
  },
  {
   "cell_type": "code",
   "execution_count": null,
   "metadata": {},
   "outputs": [],
   "source": [
    "!./item_v1.exe"
   ]
  },
  {
   "cell_type": "markdown",
   "metadata": {},
   "source": [
    "## Examples"
   ]
  },
  {
   "cell_type": "markdown",
   "metadata": {},
   "source": [
    "As an exercise, add a member function called `PrintItem()`, so it prints all the information of a given item. Modify the main function accordingly."
   ]
  },
  {
   "cell_type": "code",
   "execution_count": null,
   "metadata": {},
   "outputs": [],
   "source": [
    "!gedit src/item_v2.h"
   ]
  },
  {
   "cell_type": "code",
   "execution_count": null,
   "metadata": {},
   "outputs": [],
   "source": [
    "!gedit src/item_v2.cpp"
   ]
  },
  {
   "cell_type": "code",
   "execution_count": null,
   "metadata": {},
   "outputs": [],
   "source": [
    "!gedit src/main_item_v2.cpp "
   ]
  },
  {
   "cell_type": "code",
   "execution_count": null,
   "metadata": {},
   "outputs": [],
   "source": [
    "!g++ -o item_v2.exe src/main_item_v2.cpp src/item_v2.cpp\n",
    "!g++ -o item_v2_sol.exe src/main_item_v2_sol.cpp src/item_v2_sol.cpp"
   ]
  },
  {
   "cell_type": "code",
   "execution_count": null,
   "metadata": {},
   "outputs": [],
   "source": [
    "print(\"Your answer:\")\n",
    "!./item_v2.exe\n",
    "print(\"\\nSolution:\")\n",
    "!./item_v2_sol.exe"
   ]
  },
  {
   "cell_type": "markdown",
   "metadata": {},
   "source": [
    "## Constructors"
   ]
  },
  {
   "cell_type": "markdown",
   "metadata": {},
   "source": [
    "When we declare a class, none of its member variables are initialized unless we specify it. What is actually happening is that the code is calling the **default constructor**, which declares all the variables in the class, but does nothing else. It is a common practice **and strongly recommended** to write always a **constructor** of the class, even if it is an emty function. Important points about constructors:\n",
    "\n",
    "- The constructor is called automatically when a variable of that class type is defined, and can be used to initialize data members.\n",
    "- It has the same name as the class.\n",
    "- It doesnt have return statement.\n",
    "- A constructor without any arguments is called the **default constructor**, and should initialize all data members.\n",
    "- If there is not a constructor explicitly defined, the compiler will define it without any arguments and any statements.\n",
    "\n",
    "Let's add a constructor in the class we previously created:"
   ]
  },
  {
   "cell_type": "code",
   "execution_count": null,
   "metadata": {},
   "outputs": [],
   "source": [
    "!gedit src/item_v3.h"
   ]
  },
  {
   "cell_type": "code",
   "execution_count": null,
   "metadata": {},
   "outputs": [],
   "source": [
    "!gedit src/item_v3.cpp"
   ]
  },
  {
   "cell_type": "code",
   "execution_count": null,
   "metadata": {},
   "outputs": [],
   "source": [
    "!gedit src/main_item_v3.cpp"
   ]
  },
  {
   "cell_type": "code",
   "execution_count": null,
   "metadata": {},
   "outputs": [],
   "source": [
    "!g++ -o item_v3.exe src/main_item_v3.cpp src/item_v3.cpp"
   ]
  },
  {
   "cell_type": "code",
   "execution_count": null,
   "metadata": {},
   "outputs": [],
   "source": [
    "!./item_v3.exe"
   ]
  },
  {
   "cell_type": "markdown",
   "metadata": {},
   "source": [
    "## Constructor Overloading"
   ]
  },
  {
   "cell_type": "markdown",
   "metadata": {},
   "source": [
    "We saw in the last lesson that C++ is able to overload functions, i.e., have two functions with the same name but with different arguments. Same happens with the constructor. Is not mandatory, but sometimes is nice to give the user the chance to initialize the class members directly from the constructor. As an example, in our item class, we have created a default constructor that initializes all the member variables to a value. Similar things happen for classes that you have already used, like `vector` or `string`. \n",
    "\n",
    "```c++\n",
    "std::string s; // Declares a string s, and initializes it to \"\" and with size 0.\n",
    "std::string s(\"something\"); // Creates a string s, but when creating it, it also fills it with \"something\"\n",
    "```\n",
    "\n",
    "We want to do something similar with our class. In this case, we want to be able to initialize the class with values for price, name and number of items. Thus, we will overload the constructor to also have that option."
   ]
  },
  {
   "cell_type": "code",
   "execution_count": null,
   "metadata": {},
   "outputs": [],
   "source": [
    "!gedit src/item_v4.h"
   ]
  },
  {
   "cell_type": "code",
   "execution_count": null,
   "metadata": {},
   "outputs": [],
   "source": [
    "!gedit src/item_v4.cpp"
   ]
  },
  {
   "cell_type": "code",
   "execution_count": null,
   "metadata": {},
   "outputs": [],
   "source": [
    "!gedit src/main_item_v4.cpp"
   ]
  },
  {
   "cell_type": "code",
   "execution_count": null,
   "metadata": {},
   "outputs": [],
   "source": [
    "!g++ -o item_v4.exe src/main_item_v4.cpp src/item_v4.cpp"
   ]
  },
  {
   "cell_type": "code",
   "execution_count": null,
   "metadata": {},
   "outputs": [],
   "source": [
    "!./item_v4.exe"
   ]
  },
  {
   "cell_type": "markdown",
   "metadata": {},
   "source": [
    "## Destructors"
   ]
  },
  {
   "cell_type": "markdown",
   "metadata": {},
   "source": [
    "When we create an object we need the constructors, either the default constructor or the overloaded one. In the constructor, or in some modifier functions, we migh perform memory allocations, that unless we free them, will yield memory errors. In this lesson is not crutial to talk about them, but is always a good practice to add the **destructors** in your classes. \n",
    "\n",
    "- The destructors are defines always by the class name preceeded by `~`.\n",
    "- They should free all the memory and make sure there is not a single bit allocated after the call to the destructor.\n",
    "\n",
    "In our Item class, since we don't need any statement in the destructor, we would not deed to explicitly write it. However, **it is good practice to ALWAYS write a destructor, even if is an empty function**. Let's add the destructor to our Item class. In the constructors and destructors, there is a print statement that will help us see when that is called."
   ]
  },
  {
   "cell_type": "code",
   "execution_count": null,
   "metadata": {},
   "outputs": [],
   "source": [
    "!gedit src/item_v5.h"
   ]
  },
  {
   "cell_type": "code",
   "execution_count": null,
   "metadata": {},
   "outputs": [],
   "source": [
    "!gedit src/item_v5.cpp"
   ]
  },
  {
   "cell_type": "code",
   "execution_count": null,
   "metadata": {},
   "outputs": [],
   "source": [
    "!gedit src/main_item_v5.cpp"
   ]
  },
  {
   "cell_type": "code",
   "execution_count": null,
   "metadata": {},
   "outputs": [],
   "source": [
    "!g++ -o item_v5.exe src/main_item_v5.cpp src/item_v5.cpp"
   ]
  },
  {
   "cell_type": "code",
   "execution_count": null,
   "metadata": {},
   "outputs": [],
   "source": [
    "!./item_v5.exe"
   ]
  },
  {
   "cell_type": "markdown",
   "metadata": {},
   "source": [
    "## Operator Overloading"
   ]
  },
  {
   "cell_type": "markdown",
   "metadata": {},
   "source": [
    "It will happen that sometimes we need to \"add\", \"multiply\", or compare classes. The standart operators `+`,`-`,`*`,`==`,... are defined for the default variable types, but not for the user defined classes. A solution is to write the actual definition of the operator, known as **operator overloading**. The following code contains a class that has two double numbers for feet and inches. We can define an addition operator that will add the two variables:"
   ]
  },
  {
   "cell_type": "code",
   "execution_count": null,
   "metadata": {},
   "outputs": [],
   "source": [
    "!gedit src/operator_overload_01.cpp"
   ]
  },
  {
   "cell_type": "code",
   "execution_count": null,
   "metadata": {},
   "outputs": [],
   "source": [
    "!g++ -o operator_overload_01 src/operator_overload_01.cpp"
   ]
  },
  {
   "cell_type": "code",
   "execution_count": null,
   "metadata": {},
   "outputs": [],
   "source": [
    "!./operator_overload_01"
   ]
  },
  {
   "cell_type": "markdown",
   "metadata": {},
   "source": [
    "## Problems"
   ]
  },
  {
   "cell_type": "markdown",
   "metadata": {},
   "source": [
    "### Problem 1"
   ]
  },
  {
   "cell_type": "markdown",
   "metadata": {},
   "source": [
    "Create a molecule class, and without modifying the `main.cpp` file (just uncomment the statements once your class is ready), make it compile and pass the assertions. <br>\n",
    "The molecule class should have the following public member functions:\n",
    "- Default constructor clearing the vectors, and setting number of atoms to -1\n",
    "- Overloaded constructor that creates the molecule passing as argument **ONLY** the XYZ vector (arg1) and the atom names vector (arg2)\n",
    "- Destructor\n",
    "- Function that sets/gets the xyz (given a vector of double) (Set/GetXyx)\n",
    "- Function that sets/gets the atom names (given a vector of strings) (Set/GetAtNames)\n",
    "- Function that sets/gets the number of atoms in the molecule (Set/GetNumAts)\n",
    "\n",
    "And the following private member variables\n",
    "- A double vector with the coordinates\n",
    "- A string vector with the atom names\n",
    "- An integer with the number of atoms\n",
    "\n",
    "Edit the `molecule.cpp` and `molecule.h` to implement your class, and then uncomment all the commented statements in `main.cpp`"
   ]
  },
  {
   "cell_type": "code",
   "execution_count": null,
   "metadata": {},
   "outputs": [],
   "source": [
    "!gedit src/problem_01/molecule.cpp"
   ]
  },
  {
   "cell_type": "code",
   "execution_count": null,
   "metadata": {},
   "outputs": [],
   "source": [
    "!gedit src/problem_01/molecule.h"
   ]
  },
  {
   "cell_type": "code",
   "execution_count": null,
   "metadata": {},
   "outputs": [],
   "source": [
    "!gedit src/problem_01/main.cpp"
   ]
  },
  {
   "cell_type": "code",
   "execution_count": null,
   "metadata": {},
   "outputs": [],
   "source": [
    "!g++ -std=c++11 -o main.exe src/problem_01/main.cpp src/problem_01/molecule.cpp\n",
    "!g++ -std=c++11 -o main_sol.exe src/problem_01_sol/main_sol.cpp src/problem_01_sol/molecule_sol.cpp"
   ]
  },
  {
   "cell_type": "code",
   "execution_count": null,
   "metadata": {},
   "outputs": [],
   "source": [
    "print(\"Your answer:\")\n",
    "!./main.exe\n",
    "print(\"\\nSolution\")\n",
    "!./main_sol.exe"
   ]
  }
 ],
 "metadata": {
  "kernelspec": {
   "display_name": "Python 3",
   "language": "python",
   "name": "python3"
  },
  "language_info": {
   "codemirror_mode": {
    "name": "ipython",
    "version": 3
   },
   "file_extension": ".py",
   "mimetype": "text/x-python",
   "name": "python",
   "nbconvert_exporter": "python",
   "pygments_lexer": "ipython3",
   "version": "3.6.3"
  }
 },
 "nbformat": 4,
 "nbformat_minor": 2
}

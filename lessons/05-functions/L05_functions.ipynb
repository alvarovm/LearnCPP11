{
 "cells": [
  {
   "cell_type": "markdown",
   "metadata": {},
   "source": [
    "# User Defined Functions and Subroutines"
   ]
  },
  {
   "cell_type": "markdown",
   "metadata": {},
   "source": [
    "## Introduction"
   ]
  },
  {
   "cell_type": "markdown",
   "metadata": {},
   "source": [
    "A **function** or **subroutine** is a set of instructions that are named. The difference between the two of them is if they return a value (functions) or not (subroutines or voids). When we invoke the function or the subroutine, we are performing a **call** to it. Functions and subroutines, in the same way as variables, have to be **declared** and **defined**, and we can define them at the same time as we define them. <br>\n",
    "There are a couple of good practices that you should follow when writting code:\n",
    "- Function/Subroutine names start with capital letters, and if multiple words compose the function name, the first letter should be capitalized.\n",
    "- If a word that composes the function/subroutine name is an alias, like PIMD, REMD, and so on, one should capitalize only the first letter\n",
    "- Each function/subroutine should have a description of what does it do, and description of input/output arguments.\n",
    "\n",
    "The way a subroutine is defined is the following:\n",
    "```c++\n",
    "void SubroutineName(T1 arg1, T2 arg2, ...) {\n",
    "  // Subroutine statements\n",
    "  return;\n",
    "}\n",
    "```\n",
    "Where `T1`, `T2`, and so on are the types of `arg1`, `arg2`, ... Look at the following example:"
   ]
  },
  {
   "cell_type": "code",
   "execution_count": null,
   "metadata": {},
   "outputs": [],
   "source": [
    "!gedit src/function_01.cpp"
   ]
  },
  {
   "cell_type": "code",
   "execution_count": null,
   "metadata": {},
   "outputs": [],
   "source": [
    "!g++ -o function_01 src/function_01.cpp"
   ]
  },
  {
   "cell_type": "code",
   "execution_count": null,
   "metadata": {},
   "outputs": [],
   "source": [
    "!./function_01"
   ]
  },
  {
   "cell_type": "markdown",
   "metadata": {},
   "source": [
    "The function above does not require any argument, However, we can pass arguments to a function. Look a this modified example of the previous function:"
   ]
  },
  {
   "cell_type": "code",
   "execution_count": null,
   "metadata": {},
   "outputs": [],
   "source": [
    "!gedit src/function_02.cpp"
   ]
  },
  {
   "cell_type": "code",
   "execution_count": null,
   "metadata": {},
   "outputs": [],
   "source": [
    "!g++ -o function_02 src/function_02.cpp"
   ]
  },
  {
   "cell_type": "code",
   "execution_count": null,
   "metadata": {},
   "outputs": [],
   "source": [
    "!./function_02"
   ]
  },
  {
   "cell_type": "markdown",
   "metadata": {},
   "source": [
    "The way to define a function is similar to the subroutine, but now, instead of `void`, we will put the type `T` of the variable that the function will return:\n",
    "```c++\n",
    "T FunctionName(T1 arg1, T2 arg2, ...) {\n",
    "  T var1;\n",
    "  // Do stuff to get the right value of var1\n",
    "  // Now the return is mandatory\n",
    "  return var1;\n",
    "}\n",
    "```\n",
    "Look at the example below:"
   ]
  },
  {
   "cell_type": "code",
   "execution_count": null,
   "metadata": {},
   "outputs": [],
   "source": [
    "!gedit src/function_03.cpp"
   ]
  },
  {
   "cell_type": "code",
   "execution_count": null,
   "metadata": {},
   "outputs": [],
   "source": [
    "!g++ -o function_03 src/function_03.cpp"
   ]
  },
  {
   "cell_type": "code",
   "execution_count": null,
   "metadata": {},
   "outputs": [],
   "source": [
    "!./function_03"
   ]
  },
  {
   "cell_type": "markdown",
   "metadata": {},
   "source": [
    "## Unit Testing"
   ]
  },
  {
   "cell_type": "markdown",
   "metadata": {},
   "source": [
    "Whenever you write a function for your code, you should ALWAYS write unit testing for it, and specially with challenging situations. In order to do this, one should write a test function that calls your defined function with different arguments, and makes sure it does not break:\n",
    "```c++\n",
    "int Multiply(int arg1, int arg2) {\n",
    "  int result = arg1 * arg2;\n",
    "  return result;\n",
    "}\n",
    "\n",
    "void TestMultiply() {\n",
    "  std::cout << \"Function(3,3) should be 9 and returns \" << Multiply(3,3) << std::endl;\n",
    "  std::cout << \"Function(1,2) should be 2 and returns \" << Multiply(1,2) << std::endl;\n",
    "  std::cout << \"Function(-1,2) should be -2 and returns \" << Multiply(-1,2) << std::endl;\n",
    "}\n",
    "\n",
    "int main() {\n",
    "  TestMultiply();\n",
    "  return 0;\n",
    "}\n",
    "```\n",
    "A better way to create the test is with the `assert` function, included in the library `cassert`. This will return an error if any of the assertions is not correct:\n",
    "```c++\n",
    "int Multiply(int arg1, int arg2) {\n",
    "  int result = arg1 * arg2;\n",
    "  return result;\n",
    "}\n",
    "\n",
    "void TestMultiply() {\n",
    "  assert(Multiply(3,3) == 9);\n",
    "  assert(Multiply(1,2) == 2);\n",
    "  assert(Multiply(-1,2) == -2);\n",
    "}\n",
    "\n",
    "int main() {\n",
    "  TestMultiply();\n",
    "  return 0;\n",
    "}\n",
    "```"
   ]
  },
  {
   "cell_type": "markdown",
   "metadata": {},
   "source": [
    "## Examples"
   ]
  },
  {
   "cell_type": "markdown",
   "metadata": {},
   "source": [
    "### Example 1"
   ]
  },
  {
   "cell_type": "markdown",
   "metadata": {},
   "source": [
    "The following file contains a program with a function that converts from feet and inches to cm. Modify it accordingly so the assertions do their job."
   ]
  },
  {
   "cell_type": "code",
   "execution_count": null,
   "metadata": {},
   "outputs": [],
   "source": [
    "!gedit src/example_01.cpp"
   ]
  },
  {
   "cell_type": "code",
   "execution_count": null,
   "metadata": {},
   "outputs": [],
   "source": [
    "!g++ -o example_01 src/example_01.cpp\n",
    "!g++ -o example_01_sol src/example_01_sol.cpp"
   ]
  },
  {
   "cell_type": "code",
   "execution_count": null,
   "metadata": {},
   "outputs": [],
   "source": [
    "print(\"Your answer:\")\n",
    "!./example_01\n",
    "print(\"\\nSolution:\")\n",
    "!./example_01_sol"
   ]
  },
  {
   "cell_type": "markdown",
   "metadata": {},
   "source": [
    "## Pass by Reference"
   ]
  },
  {
   "cell_type": "markdown",
   "metadata": {},
   "source": [
    "When we pass arguments to a function as we have done until now, we are **passing by value** that variable. This means that the function creates a copy of the variable, and it uses it. The following code contains a function that adds one to the number passed as an argument, and returns the old value. Look at it, compile it and execute it. Is the result what you expected?"
   ]
  },
  {
   "cell_type": "code",
   "execution_count": null,
   "metadata": {},
   "outputs": [],
   "source": [
    "!gedit src/passbyref_01.cpp "
   ]
  },
  {
   "cell_type": "code",
   "execution_count": null,
   "metadata": {},
   "outputs": [],
   "source": [
    "!g++ -o passbyref_01 src/passbyref_01.cpp"
   ]
  },
  {
   "cell_type": "code",
   "execution_count": null,
   "metadata": {},
   "outputs": [],
   "source": [
    "!./passbyref_01"
   ]
  },
  {
   "cell_type": "markdown",
   "metadata": {},
   "source": [
    "What is going on? The answer is that we modified the copy of `num`, and not the original number. Look at the figure below to understand what is going on. In `Checkpoint A`, within the scope of the `main` function, we have reserved memory for two variables, `number` and `result`. In `Checkpoint B` we have enterd the `AddOne` function with `number` as an argument. C++ has created a copy of `number` somewhere else in the memory within the scope of `AddOne`, and also a new variable `num_old` initialized to `num`. In `Checkpoint C` we have updated `num` to the new value. But the we exit the function `AddOne`, and get to `Checkpoint D`. At this point, all the variables within the scope of `AddOne` have been destroyed, and their value is no longer accessible. At this point, `number` and `result` have the same value as they had before the call to the function. \n",
    "![Figure 1](figures/figure1.png)"
   ]
  },
  {
   "cell_type": "markdown",
   "metadata": {},
   "source": [
    "So how can we fix that? The solution is to **pass by reference** the variables that we want to modify. By passing by reference, we tell C++ to use the same memory address for that variable. In order to pass by reference, we just need to add `&` in front of the name of the variable in the arguments:\n",
    "```c++\n",
    "void DoSomething(int var1);  // Passing var1 by value\n",
    "void DoSomething(int &var1); // Passing var1 by reference\n",
    "```\n",
    "Let's look at a modified version of the previous function:"
   ]
  },
  {
   "cell_type": "code",
   "execution_count": null,
   "metadata": {},
   "outputs": [],
   "source": [
    "!gedit src/passbyref_02.cpp"
   ]
  },
  {
   "cell_type": "code",
   "execution_count": null,
   "metadata": {},
   "outputs": [],
   "source": [
    "!g++ -o passbyref_02 src/passbyref_02.cpp"
   ]
  },
  {
   "cell_type": "code",
   "execution_count": null,
   "metadata": {},
   "outputs": [],
   "source": [
    "!./passbyref_02"
   ]
  },
  {
   "cell_type": "markdown",
   "metadata": {},
   "source": [
    "Now we have the right answer! How does passing by value/reference affect the performance of our code? Look at the following file:"
   ]
  },
  {
   "cell_type": "code",
   "execution_count": null,
   "metadata": {},
   "outputs": [],
   "source": [
    "!gedit src/passbyref_03.cpp"
   ]
  },
  {
   "cell_type": "code",
   "execution_count": null,
   "metadata": {},
   "outputs": [],
   "source": [
    "!g++ -std=c++11 -o passbyref_03 src/passbyref_03.cpp"
   ]
  },
  {
   "cell_type": "code",
   "execution_count": null,
   "metadata": {},
   "outputs": [],
   "source": [
    "!./passbyref_03"
   ]
  },
  {
   "cell_type": "markdown",
   "metadata": {},
   "source": [
    "As you can see, passing the vector by value is usually slower than passing it by reference. Every time that we pass by value, we make a copy, and making a copy of millions of elements might be expensive. However, if the variable is small (int, double, small vector < 10 elements), is usually faster to make copies than to use the memory address."
   ]
  },
  {
   "cell_type": "markdown",
   "metadata": {},
   "source": [
    "## Local and Global variables"
   ]
  },
  {
   "cell_type": "markdown",
   "metadata": {},
   "source": [
    "**Local varibales** are only visible in the **scope** of the functions where they have been defined, while **global varibales** are defined outside any function, and they are visible to all the functions in the file. All the variables we have seen until now have been local. For global variables declaration and definition, there is a convention on how to define them:\n",
    "- They must be define at the top of the file, right after the include statements\n",
    "- The letters must be capital\n",
    "- Usually they must be constant. Is not a requirement, but is not considered good practice to have global variables that are not constant.\n",
    "\n",
    "```c++\n",
    "#include <iostream>\n",
    "#include <vector>\n",
    "\n",
    "const double MILES_PER_KM = 0.621371;\n",
    "const int MAX_ITERATIONS = 100000;\n",
    "\n",
    "void subroutine1(double arg1, double &arg2) {\n",
    "  // Subroutine statements\n",
    "  // It can have access to MILES_PER_KM and MAX_ITERATIONS\n",
    "}\n",
    "\n",
    "int main() { \n",
    "  // Main statements\n",
    "  // It can have access to MILES_PER_KM and MAX_ITERATIONS\n",
    "}\n",
    "```"
   ]
  },
  {
   "cell_type": "markdown",
   "metadata": {},
   "source": [
    "## Function Declaration and Definition"
   ]
  },
  {
   "cell_type": "markdown",
   "metadata": {},
   "source": [
    "As we mentioned before, functions can be declared and defined. Until now, we have done the declaration and the definition at the same time, but this is not strictly necessary. Usually, one writes the declaration at the beggining, and then the definition later:\n",
    "```c++\n",
    "#include <iostream>\n",
    "\n",
    "// Function declaration\n",
    "int MultiplyBy2(int x);\n",
    "\n",
    "int main() {\n",
    "  int a = 3;\n",
    "  int b = MultiblyBy2(a);\n",
    "  return 0;\n",
    "}\n",
    "\n",
    "// Function definition\n",
    "int MultiplyBy2(int x) {\n",
    "  return x * 2;\n",
    "}\n",
    "```\n",
    "As one can see, the declaration and the definition are now separated."
   ]
  },
  {
   "cell_type": "markdown",
   "metadata": {},
   "source": [
    "## Function Overloading"
   ]
  },
  {
   "cell_type": "markdown",
   "metadata": {},
   "source": [
    "It is possible in C++ to have multiple functions with the same name, but with different arguments. At compilation time, the compiler will know which is the proper function to use by checking the arguments. This is known as **overloading**, and is very common procedure in C++, specially with object oriented programming. Let's see an example:"
   ]
  },
  {
   "cell_type": "code",
   "execution_count": null,
   "metadata": {},
   "outputs": [],
   "source": [
    "!gedit src/overload_01.cpp"
   ]
  },
  {
   "cell_type": "code",
   "execution_count": null,
   "metadata": {},
   "outputs": [],
   "source": [
    "!g++ -o overload_01 src/overload_01.cpp"
   ]
  },
  {
   "cell_type": "code",
   "execution_count": null,
   "metadata": {},
   "outputs": [],
   "source": [
    "!./overload_01"
   ]
  },
  {
   "cell_type": "markdown",
   "metadata": {},
   "source": [
    "## Function with defaults"
   ]
  },
  {
   "cell_type": "markdown",
   "metadata": {},
   "source": [
    "It might be possible that an argument to a function is not required, but you have the option to pass it. In that case, one can **predefine the arguments** in a function by setting it to a value.\n",
    "```c++\n",
    "// Declaring the function\n",
    "void Function(int arg_mandatory, int arg_optional = 2);\n",
    "\n",
    "int main() {\n",
    "\n",
    "  // Call the function without the optional argument\n",
    "  Function(1); // Function is called and arg_optional is set to 2\n",
    "  \n",
    "  // Call the function with the optional argument\n",
    "  Function(1,5); // Function is called with arg_optional set to 5\n",
    "  \n",
    "  return 0;\n",
    "}\n",
    "```\n",
    "Let's look at the following code:"
   ]
  },
  {
   "cell_type": "code",
   "execution_count": null,
   "metadata": {},
   "outputs": [],
   "source": [
    "!gedit src/predefine_01.cpp"
   ]
  },
  {
   "cell_type": "code",
   "execution_count": null,
   "metadata": {},
   "outputs": [],
   "source": [
    "!g++ -o predefine_01 src/predefine_01.cpp"
   ]
  },
  {
   "cell_type": "code",
   "execution_count": null,
   "metadata": {},
   "outputs": [],
   "source": [
    "!./predefine_01"
   ]
  },
  {
   "cell_type": "markdown",
   "metadata": {},
   "source": [
    "## Header files and Modular Compilation"
   ]
  },
  {
   "cell_type": "markdown",
   "metadata": {},
   "source": [
    "The most common practice when writting a software with several functions, is to break down the functions that are similar and put them in a separate file. This makes the readability easier, and also makes it easier to debug. These functions are declared in the **header file**, and are defined in the **source file**. The extension for header files is `.h`. For the header files tehre are a couple rules that one should follow:\n",
    "- The header file must contain all the includes that the source file will need.\n",
    "- The header file must contain ONLY function declarations and constants definitions, but it can include function definitions if the function is short and trivial.\n",
    "- The header file must contain, for each function, the description of what is that function doing, inputs, and outputs of the function, and also the return value of the function if tehre is any.\n",
    "- The header file must be included in the source with \"\" instead of <>. The first one will make the compiler look for the header in the current folder, while the second one will look for it in the system library folder of your computer.\n",
    "- the header file must have a **header file guard**. \n",
    "\n",
    "This last one is the most important. When we include a header file, we are telling the compiler to put all the content of that file in the source file. If we include the same header file more than once in different source files, we might end with multiple declarations of the same function, which might cause a compilation or runtime failure. The way to add a header guar is with the **preprocessor instructions** (also know as **flags**):\n",
    "\n",
    "```c++\n",
    "#ifndef HEADER_FILE_NAME_H\n",
    "#define HEADER_FILE_NAME_H\n",
    "\n",
    "// Header file stuff\n",
    "\n",
    "#endif\n",
    "```\n",
    "What we are doing with this is the following. We compile the code, and the compiler reaches this `#ifndef` flag. The first time it reaches it, `HEADER_FILE_NAME_H` is not defined, so it defines it and goes through the header file. The second time it reaches this file, since `HEADER_FILE_NAME_H` has already been defined, it skips this entire file, and consequently, we don't have multiple declarations of the functions in that header file. Let's have a look at the following files which will show how this work:"
   ]
  },
  {
   "cell_type": "code",
   "execution_count": null,
   "metadata": {},
   "outputs": [],
   "source": [
    "!gedit src/print_stuff.h"
   ]
  },
  {
   "cell_type": "code",
   "execution_count": null,
   "metadata": {},
   "outputs": [],
   "source": [
    "!gedit src/print_stuff.cpp"
   ]
  },
  {
   "cell_type": "code",
   "execution_count": null,
   "metadata": {},
   "outputs": [],
   "source": [
    "!gedit src/print_stuff_main.cpp"
   ]
  },
  {
   "cell_type": "markdown",
   "metadata": {},
   "source": [
    "Note a couple of details. First, we are not including in any of the cpp files the library `<iostream>`. Why? Because is already included in the header file, and there is no need to include it again. Also, note that we need to include the header file in both cpp files, since both of them need the function declarations of the header files."
   ]
  },
  {
   "cell_type": "markdown",
   "metadata": {},
   "source": [
    "Now is time to compile them. There are two ways to do it. One is the **single step compilation**, which is what we have been doing until now. In order to compile these files in a single step, we just need to add all the source files together, putting the main that has dependencies before the dependencies themselves:"
   ]
  },
  {
   "cell_type": "code",
   "execution_count": null,
   "metadata": {},
   "outputs": [],
   "source": [
    "!g++ -o print_stuff src/print_stuff_main.cpp src/print_stuff.cpp"
   ]
  },
  {
   "cell_type": "code",
   "execution_count": null,
   "metadata": {},
   "outputs": [],
   "source": [
    "!./print_stuff"
   ]
  },
  {
   "cell_type": "markdown",
   "metadata": {},
   "source": [
    "For a two file program this is simple, but when one has tens of files, getting the right order might be tricky. Also, the compilation time for a single-step compilation can be large. For that reason, it is commonly used the modular compilation. In the modular compilation, you create object files for each source, and then you put them all together. In order to creat the object, you need to add the flag `-c` to the compilation options."
   ]
  },
  {
   "cell_type": "code",
   "execution_count": null,
   "metadata": {},
   "outputs": [],
   "source": [
    "!g++ -c src/print_stuff_main.cpp\n",
    "!g++ -c src/print_stuff.cpp\n",
    "!g++ -o print_stuff_modular print_stuff_main.o print_stuff.o"
   ]
  },
  {
   "cell_type": "code",
   "execution_count": null,
   "metadata": {},
   "outputs": [],
   "source": [
    "!./print_stuff_modular"
   ]
  },
  {
   "cell_type": "markdown",
   "metadata": {},
   "source": [
    "Again, for a small number of files this can be done manually. However, can you imagine yourself doing it for tens of files? No, and that's where the Makefile enters into the game. We will see how to create and use Makefiles in a future lesson."
   ]
  },
  {
   "cell_type": "markdown",
   "metadata": {},
   "source": [
    "## Problems"
   ]
  },
  {
   "cell_type": "markdown",
   "metadata": {},
   "source": [
    "### Problem 1"
   ]
  },
  {
   "cell_type": "markdown",
   "metadata": {},
   "source": [
    "Modify the code below so it passes the assertions. The function `RemoveLetters` should fulfil:\n",
    "- Accept two arguments. First argument is the text you want to delete. Second argument is the text where you want to delete. Thus, `RemoveLetters(\"a\",\"part\")` should delete `a` from `part`. \n",
    "- The function will return the number of time that argument 1 is present in argument 2.\n",
    "- The second argument will be modified. At the end of the function, the second argument will not have the text passed as first argument. Thus, if we have the two strings `s1 = \"at\"` and `s2 = \"patata\"`, `RemoveLetters(s1,s2)` witl return 2 and leave `s2 = \"pa\"`"
   ]
  },
  {
   "cell_type": "code",
   "execution_count": null,
   "metadata": {},
   "outputs": [],
   "source": [
    "!gedit src/problem_01.cpp"
   ]
  },
  {
   "cell_type": "code",
   "execution_count": null,
   "metadata": {},
   "outputs": [],
   "source": [
    "!g++ -o problem_01 src/problem_01.cpp\n",
    "!g++ -o problem_01_sol src/problem_01_sol.cpp"
   ]
  },
  {
   "cell_type": "code",
   "execution_count": null,
   "metadata": {},
   "outputs": [],
   "source": [
    "print(\"Your answer:\")\n",
    "!./problem_01\n",
    "print(\"\\nSolution:\")\n",
    "!./problem_01_sol"
   ]
  },
  {
   "cell_type": "markdown",
   "metadata": {},
   "source": [
    "### Problem 2"
   ]
  },
  {
   "cell_type": "markdown",
   "metadata": {},
   "source": [
    "The folder `problem_02` contains 3 files:\n",
    "- `print_shapes.h` is a header files with the declaration of two functions: PrintTriangle and PrintSquare. \n",
    "- `print_shapes.cpp` contains the definition of these functions. They should print a triangle SYMMETRIC IN THE Y AXIS, and a square respectively, of a given height and a given character defaulted to 'o'\n",
    "- `main.cpp` is a half written main function that will use those two functions\n",
    "The code must fulfill the following requirements:\n",
    "- The main function will accept 2 mandatory arguments and the third one will be optional. As the usage says, the first argument is a character that can be `t` or `s`, to define if we print a triangle or a square. The second argument is the height of the shape. The third argument is the character with what we want to draw, and is optional.\n",
    "- The characters in the shape must be separated by 1 space for both triangle and square.\n",
    "\n",
    "Look at the execution of the solution to see the expected results:"
   ]
  },
  {
   "cell_type": "code",
   "execution_count": null,
   "metadata": {},
   "outputs": [],
   "source": [
    "!gedit src/problem_02/print_shapes.h"
   ]
  },
  {
   "cell_type": "code",
   "execution_count": null,
   "metadata": {},
   "outputs": [],
   "source": [
    "!gedit src/problem_02/print_shapes.cpp"
   ]
  },
  {
   "cell_type": "code",
   "execution_count": null,
   "metadata": {},
   "outputs": [],
   "source": [
    "!gedit src/problem_02/main.cpp"
   ]
  },
  {
   "cell_type": "code",
   "execution_count": null,
   "metadata": {},
   "outputs": [],
   "source": [
    "!g++ -o main src/problem_02/main.cpp src/problem_02/print_shapes.cpp\n",
    "!g++ -o main_sol src/problem_02_sol/main_sol.cpp src/problem_02_sol/print_shapes_sol.cpp"
   ]
  },
  {
   "cell_type": "code",
   "execution_count": null,
   "metadata": {},
   "outputs": [],
   "source": [
    "print(\"Your answer:\")\n",
    "!./main t 6\n",
    "print(\"\\nSolution:\")\n",
    "!./main_sol t 6"
   ]
  },
  {
   "cell_type": "code",
   "execution_count": null,
   "metadata": {},
   "outputs": [],
   "source": [
    "print(\"Your answer:\")\n",
    "!./main s 8\n",
    "print(\"\\nSolution:\")\n",
    "!./main_sol s 8"
   ]
  },
  {
   "cell_type": "code",
   "execution_count": null,
   "metadata": {},
   "outputs": [],
   "source": [
    "print(\"Your answer:\")\n",
    "!./main s 8 x\n",
    "print(\"\\nSolution:\")\n",
    "!./main_sol s 8 x"
   ]
  },
  {
   "cell_type": "code",
   "execution_count": null,
   "metadata": {},
   "outputs": [],
   "source": [
    "print(\"Your answer:\")\n",
    "!./main t 30 ?\n",
    "print(\"\\nSolution:\")\n",
    "!./main_sol t 30 ?"
   ]
  },
  {
   "cell_type": "code",
   "execution_count": null,
   "metadata": {},
   "outputs": [],
   "source": []
  }
 ],
 "metadata": {
  "kernelspec": {
   "display_name": "Python 3",
   "language": "python",
   "name": "python3"
  },
  "language_info": {
   "codemirror_mode": {
    "name": "ipython",
    "version": 3
   },
   "file_extension": ".py",
   "mimetype": "text/x-python",
   "name": "python",
   "nbconvert_exporter": "python",
   "pygments_lexer": "ipython3",
   "version": "3.6.3"
  }
 },
 "nbformat": 4,
 "nbformat_minor": 2
}

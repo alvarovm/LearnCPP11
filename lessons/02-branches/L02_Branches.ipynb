{
 "cells": [
  {
   "cell_type": "markdown",
   "metadata": {},
   "source": [
    "# Branching your code"
   ]
  },
  {
   "cell_type": "markdown",
   "metadata": {},
   "source": [
    "## Introduction"
   ]
  },
  {
   "cell_type": "markdown",
   "metadata": {},
   "source": [
    "Very often you will find that your code needs to perform some intructions if an statement is fullfilled or some others if it's not. This is called **branching** the code. Branching allos you to write two parts of code, and depending on a condition, one or the other one will be executed. "
   ]
  },
  {
   "cell_type": "markdown",
   "metadata": {},
   "source": [
    "## If - Else branching"
   ]
  },
  {
   "cell_type": "markdown",
   "metadata": {},
   "source": [
    "The most common way to branch in C++ is the if-else statement:\n",
    "```c++\n",
    "// Statements before the conditional branch\n",
    "\n",
    "if (condition) {\n",
    "  // Statements to run if the condition is fullfilled\n",
    "} else {\n",
    "  // Statements to run if the condition is not fulfilled\n",
    "}\n",
    "\n",
    "// Statements to run after the condition\n",
    "```\n",
    "The condition is a boolean (`bool`) variable. This is a new type of variable that we did not see before. This variable can only have two values: `true` or `false`. \n",
    "```c++\n",
    "bool is_true = true;\n",
    "bool is_false = false;\n",
    "```\n",
    "A boolean is obtained when using the **relational** and **equality** operators:"
   ]
  },
  {
   "cell_type": "markdown",
   "metadata": {},
   "source": [
    "Operator | Type | Description\n",
    ":---: | :---: | :---:\n",
    "a < b | Relational | a is less than b\n",
    "a > b | Relational | a is greater than b\n",
    "a <= b | Relational | a is less or equal than b\n",
    "a >= b | Relational | a is greater or equal than b\n",
    "a == b | Equality | a is equal to b\n",
    "a != b | Equality | a is not equal to b"
   ]
  },
  {
   "cell_type": "markdown",
   "metadata": {},
   "source": [
    "Let's see a very simple example in a code itself. Open the file `ifelse_01.cpp` to see what the program does. We are defining two variables, a and b, and checking if they are equal. Seems easy, right?"
   ]
  },
  {
   "cell_type": "code",
   "execution_count": null,
   "metadata": {},
   "outputs": [],
   "source": [
    "!gedit src/ifelse_01.cpp"
   ]
  },
  {
   "cell_type": "code",
   "execution_count": null,
   "metadata": {},
   "outputs": [],
   "source": [
    "!g++ -o ifelse_01 src/ifelse_01.cpp"
   ]
  },
  {
   "cell_type": "code",
   "execution_count": null,
   "metadata": {},
   "outputs": [],
   "source": [
    "!./ifelse_01"
   ]
  },
  {
   "cell_type": "markdown",
   "metadata": {},
   "source": [
    "Let's now write a new code. We want to pass two integers as command line arguments, and print if the first one is divisible by the second one. There are multiple ways to check it, and some are faster and nicer than the rest. Before writting, one needs to design the code, i.e., think what we need and how to put it. How do we know if `a` is divisible by `b`?\n",
    "```\n",
    "a  / b = c + d\n",
    "10 / 3 = 3 + 1\n",
    "```\n",
    "We can see that if `a` is divisible by `b`, means that the division residue is `0`. Look for a function that does that on google. How to get the residue of a division in cpp?<br>\n",
    "Let's create now our example. The file `ifelse_02.cpp` contains some code. Modify it to make it do what we want. Compile it and run it to make sure it works. The code should have the following requirements:\n",
    "- Needs exactly two command line arguments. If it does not have 2 command line arguments, the code must finish with error code 1, printing the usage as: `Usage: ./ifelse_02 <num1> <num2>`.\n",
    "- Must print if `a` is a multiple of `b`.\n",
    "- Must be documented."
   ]
  },
  {
   "cell_type": "code",
   "execution_count": null,
   "metadata": {},
   "outputs": [],
   "source": [
    "!gedit src/ifelse_02.cpp"
   ]
  },
  {
   "cell_type": "code",
   "execution_count": null,
   "metadata": {},
   "outputs": [],
   "source": [
    "!g++ -o ifelse_02 src/ifelse_02.cpp"
   ]
  },
  {
   "cell_type": "code",
   "execution_count": null,
   "metadata": {},
   "outputs": [],
   "source": [
    "!./ifelse_02"
   ]
  },
  {
   "cell_type": "markdown",
   "metadata": {},
   "source": [
    "If you get stacked, you can look at the solution `ifelse_02_sol.cpp`. But try to do it yourself. In any case, let's compile and run the solution to compare results."
   ]
  },
  {
   "cell_type": "code",
   "execution_count": null,
   "metadata": {},
   "outputs": [],
   "source": [
    "!g++ -o ifelse_02_sol src/ifelse_02_sol.cpp"
   ]
  },
  {
   "cell_type": "code",
   "execution_count": null,
   "metadata": {},
   "outputs": [],
   "source": [
    "!./ifelse_02_sol"
   ]
  },
  {
   "cell_type": "code",
   "execution_count": null,
   "metadata": {},
   "outputs": [],
   "source": [
    "!./ifelse_02_sol 10"
   ]
  },
  {
   "cell_type": "code",
   "execution_count": null,
   "metadata": {},
   "outputs": [],
   "source": [
    "!./ifelse_02_sol 10 3"
   ]
  },
  {
   "cell_type": "code",
   "execution_count": null,
   "metadata": {},
   "outputs": [],
   "source": [
    "!./ifelse_02_sol 10 2"
   ]
  },
  {
   "cell_type": "markdown",
   "metadata": {},
   "source": [
    "Hopefully it works in the same way as your solution. However, let's try to execute the program with 0 as a second argument. What do you expect to happen? Do you think it will work?"
   ]
  },
  {
   "cell_type": "code",
   "execution_count": null,
   "metadata": {},
   "outputs": [],
   "source": [
    "!(./ifelse_02 10 0)"
   ]
  },
  {
   "cell_type": "markdown",
   "metadata": {},
   "source": [
    "Note that now the execution is in between brackets `()`, to force the notebook to print even error outputs. The program as it is will give you an error:\n",
    "```\n",
    "Floating point exception(core dumped)\n",
    "```\n",
    "What is happening is the the residue operator is not defined when the second argument is 0. Modify your code to make it print a message `The number XX cannot be divided by 0`, where `XX` is the first number. See an example by running the solution:"
   ]
  },
  {
   "cell_type": "code",
   "execution_count": null,
   "metadata": {},
   "outputs": [],
   "source": [
    "!(./ifelse_02_sol 10 0)"
   ]
  },
  {
   "cell_type": "markdown",
   "metadata": {},
   "source": [
    "And try to modify your code to do the same."
   ]
  },
  {
   "cell_type": "code",
   "execution_count": null,
   "metadata": {},
   "outputs": [],
   "source": [
    "!gedit src/ifelse_02.cpp"
   ]
  },
  {
   "cell_type": "code",
   "execution_count": null,
   "metadata": {},
   "outputs": [],
   "source": [
    "!g++ -o ifelse_02 src/ifelse_02.cpp"
   ]
  },
  {
   "cell_type": "code",
   "execution_count": null,
   "metadata": {},
   "outputs": [],
   "source": [
    "!(./ifelse_02 10 0)"
   ]
  },
  {
   "cell_type": "markdown",
   "metadata": {},
   "source": [
    "## If - Else if - Else branching"
   ]
  },
  {
   "cell_type": "markdown",
   "metadata": {},
   "source": [
    "Sometimes there are several conditions that need to be checked. Imagine that we want to check if somebody is underage (age < 18), semi-adult (18 <= age < 25), or a real adult (age > 25). The natural thinking would be to write an if statement, and put anoder if inside the else statement:\n",
    "```cpp\n",
    "if (age < 18) {\n",
    "    std::cout << \"Underage\" << std::endl;\n",
    "} else {\n",
    "    if (age < 25) {\n",
    "        std::cout << \"Semi-adult\" << std::endl;\n",
    "    } else {\n",
    "        std::cout << \"Real adult\" << std::endl;\n",
    "    }\n",
    "}\n",
    "```\n",
    "This will obviously work, but if one has several conditions to check, the code might become difficult to follow. A good solution is to use the `if - else if - else` statement:\n",
    "```cpp\n",
    "if (age < 18) {\n",
    "    std::cout << \"Underage\" << std::endl;\n",
    "} else if (age < 25) {\n",
    "    std::cout << \"Semi-adult\" << std::endl;\n",
    "} else {\n",
    "    std::cout << \"Real adult\" << std::endl;\n",
    "}\n",
    "```\n",
    "The code is cleaner this way, isn't it? "
   ]
  },
  {
   "cell_type": "markdown",
   "metadata": {},
   "source": [
    "## Logical Operators"
   ]
  },
  {
   "cell_type": "markdown",
   "metadata": {},
   "source": [
    "Sometimes it is necessary to fulfill two conditions to execute some commands, or sometimes is just necessary to fulfill one of the two. In order to do that, assuming `a` and `b` are booleans (true or false), one can use the logical operators:"
   ]
  },
  {
   "cell_type": "markdown",
   "metadata": {},
   "source": [
    "Operator | Type | Description\n",
    ":---: | :---: | :---:\n",
    "a && b | Logical | true if a **and** b are true\n",
    "a $||$ b | Logical | true if a **or** be are true\n",
    "!a | Logical | true if a is **not** true"
   ]
  },
  {
   "cell_type": "markdown",
   "metadata": {},
   "source": [
    "## Precedence Rules"
   ]
  },
  {
   "cell_type": "markdown",
   "metadata": {},
   "source": [
    "Until now we have seen several operators. When we put more than one together, they are evaluated according to the priority stablished by the precedence rules:"
   ]
  },
  {
   "cell_type": "markdown",
   "metadata": {},
   "source": [
    "Order | Operator | Explanation\n",
    ":--- | :---: | :---:\n",
    "1 | ( ) | Parentheses are evaluated first\n",
    "2 | ! | Next is the NOT operator\n",
    "3 | \\* / % + - | Then the mathematical operators, <br>evaluated according to their rules\n",
    "4 | < <= > >= | Then the relational operators\n",
    "5 | == != | Then the equality operators\n",
    "6 | && | Then the logical AND operator\n",
    "7 | $||$ | And finaly, the logical OR operator"
   ]
  },
  {
   "cell_type": "markdown",
   "metadata": {},
   "source": [
    "## Summary"
   ]
  },
  {
   "cell_type": "markdown",
   "metadata": {},
   "source": [
    "Let's see if we can put everything together. Let's say that a pair of numbers is magic if:\n",
    "1. b is even\n",
    "2. b < a\n",
    "3. a is not a multiple of b\n",
    "\n",
    "Modify the `bool isMagic` assignment in the file `precedence_rules_01.cpp` to make the code work properly. "
   ]
  },
  {
   "cell_type": "code",
   "execution_count": null,
   "metadata": {},
   "outputs": [],
   "source": [
    "!gedit src/precedence_rules_01.cpp"
   ]
  },
  {
   "cell_type": "code",
   "execution_count": null,
   "metadata": {},
   "outputs": [],
   "source": [
    "!g++ -o precedence_rules_01 src/precedence_rules_01.cpp"
   ]
  },
  {
   "cell_type": "code",
   "execution_count": null,
   "metadata": {},
   "outputs": [],
   "source": [
    "!./precedence_rules_01 100 26"
   ]
  },
  {
   "cell_type": "markdown",
   "metadata": {},
   "source": [
    "As usual, you can compile and execute the solution to make sure it is OK."
   ]
  },
  {
   "cell_type": "code",
   "execution_count": null,
   "metadata": {},
   "outputs": [],
   "source": [
    "!g++ -o precedence_rules_01_sol src/precedence_rules_01_sol.cpp"
   ]
  },
  {
   "cell_type": "code",
   "execution_count": null,
   "metadata": {},
   "outputs": [],
   "source": [
    "!./precedence_rules_01_sol 100 26"
   ]
  },
  {
   "cell_type": "markdown",
   "metadata": {},
   "source": [
    "## Switch structure"
   ]
  },
  {
   "cell_type": "markdown",
   "metadata": {},
   "source": [
    "In some situations, there are a lot of integer or char comparisons that we need to make. As an example, let's say we want to name every number from `0` to `9` in the alphabet. If the user inputs `8`, the code will print `eight`. robably you already know how to do this without the **switch** structure, but using it will make the code look cleaner. The structure of this function is the following:\n",
    "```cpp\n",
    "// This invokes the switch function on the variable var\n",
    "switch (var) {\n",
    "    // Equivalent to if (var == val1) \n",
    "    case val1:\n",
    "        // Statements if var == val1\n",
    "        break; // to exit the switch. Without it will continue looking\n",
    "    case val2:\n",
    "        // Statements if var == val2\n",
    "        break;\n",
    "    case val3:  // Nothing happens if var == val3. It just keeps looking.\n",
    "    case val4:\n",
    "        // Statements if var == val4\n",
    "    ...\n",
    "    default:\n",
    "        // Statements if none of the previous cases happened\n",
    "        break;\n",
    "}\n",
    "```"
   ]
  },
  {
   "cell_type": "markdown",
   "metadata": {},
   "source": [
    "The following example will show how the switch is working. Look at the file `switch_01.cpp`. Then compile it and run it to see the effect of forgetting stuff."
   ]
  },
  {
   "cell_type": "code",
   "execution_count": null,
   "metadata": {},
   "outputs": [],
   "source": [
    "!gedit src/switch_01.cpp"
   ]
  },
  {
   "cell_type": "code",
   "execution_count": null,
   "metadata": {},
   "outputs": [],
   "source": [
    "!g++ -o switch_01 src/switch_01.cpp"
   ]
  },
  {
   "cell_type": "code",
   "execution_count": null,
   "metadata": {},
   "outputs": [],
   "source": [
    "!./switch_01"
   ]
  },
  {
   "cell_type": "markdown",
   "metadata": {},
   "source": [
    "Let's analyze this result. Without any break, all the statements are printed. Essentially, the **switch** function is an actual *switch*. Once the condition is fulfilled, it turns the switch on, and enters in any order that has below. The switch is never turned of again. That is the reason we need to add the `break` statements."
   ]
  },
  {
   "cell_type": "markdown",
   "metadata": {},
   "source": [
    "## Exercises"
   ]
  },
  {
   "cell_type": "markdown",
   "metadata": {},
   "source": [
    "### Exercise 1"
   ]
  },
  {
   "cell_type": "markdown",
   "metadata": {},
   "source": [
    "The file `exercise_01.cpp` contains an empty template of a C++ program. Write a piece of code that does the following:\n",
    "1. Two, and only two letters are passed as an argument (two separate arguments). Print a usage statement if that is not fulfilled.\n",
    "2. If both of them are lower case, it prints `The two letters X and Y are lowercase`\n",
    "   If both of them are capital letters, it prints `The two letters X and Y are capital`\n",
    "   If at least one of them is not a letter (a-z,A-Z) it prints `ERROR: X is not a letter`\n",
    "\n",
    "Compile and run the exercise, and compare the results with the solution. You might want to look at the [ASCII chart](http://en.cppreference.com/w/cpp/language/ascii)..."
   ]
  },
  {
   "cell_type": "code",
   "execution_count": null,
   "metadata": {},
   "outputs": [],
   "source": [
    "!gedit src/exercise_01.cpp"
   ]
  },
  {
   "cell_type": "code",
   "execution_count": null,
   "metadata": {},
   "outputs": [],
   "source": [
    "!g++ -o exercise_01 src/exercise_01.cpp"
   ]
  },
  {
   "cell_type": "code",
   "execution_count": null,
   "metadata": {},
   "outputs": [],
   "source": [
    "print(\" Testing with no arguments\")\n",
    "!./exercise_01 \n",
    "print(\"\\n Testing with one argument\")\n",
    "!./exercise_01 h \n",
    "print(\"\\n Testing with two arguments\")\n",
    "!./exercise_01 h P\n",
    "print(\"\\n Testing with tricky arguments\")\n",
    "!./exercise_01 A Z\n",
    "print(\"\\n Testing with tricky arguments\")\n",
    "!./exercise_01 A ?"
   ]
  },
  {
   "cell_type": "markdown",
   "metadata": {},
   "source": [
    "You can run the tests with the solution:"
   ]
  },
  {
   "cell_type": "code",
   "execution_count": null,
   "metadata": {},
   "outputs": [],
   "source": [
    "!g++ -o exercise_01_sol src/exercise_01_sol.cpp"
   ]
  },
  {
   "cell_type": "code",
   "execution_count": null,
   "metadata": {},
   "outputs": [],
   "source": [
    "print(\" Testing with no arguments\")\n",
    "!./exercise_01_sol \n",
    "print(\"\\n Testing with one argument\")\n",
    "!./exercise_01_sol h \n",
    "print(\"\\n Testing with two arguments\")\n",
    "!./exercise_01_sol h P\n",
    "print(\"\\n Testing with tricky arguments\")\n",
    "!./exercise_01_sol A Z\n",
    "print(\"\\n Testing with tricky arguments\")\n",
    "!./exercise_01_sol A ?"
   ]
  },
  {
   "cell_type": "code",
   "execution_count": null,
   "metadata": {},
   "outputs": [],
   "source": []
  }
 ],
 "metadata": {
  "kernelspec": {
   "display_name": "Python 3",
   "language": "python",
   "name": "python3"
  },
  "language_info": {
   "codemirror_mode": {
    "name": "ipython",
    "version": 3
   },
   "file_extension": ".py",
   "mimetype": "text/x-python",
   "name": "python",
   "nbconvert_exporter": "python",
   "pygments_lexer": "ipython3",
   "version": "3.6.3"
  }
 },
 "nbformat": 4,
 "nbformat_minor": 2
}
